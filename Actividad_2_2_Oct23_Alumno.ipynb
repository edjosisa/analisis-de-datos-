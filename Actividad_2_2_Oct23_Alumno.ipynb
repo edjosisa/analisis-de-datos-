{
 "cells": [
  {
   "cell_type": "markdown",
   "metadata": {},
   "source": [
    "#### 1 - Generación de nuestro dataset de trabajo\n",
    "* Vamos a empezar importando las librerias de numpy, pandas, matplotlib, requests y BeautifulSoup"
   ]
  },
  {
   "cell_type": "markdown",
   "source": [
    "# Actividad 2.2\n",
    "En este ejercicio vamos a hacer scrapping sobre una página de meteorología para luego aplicar un simple modelo predictivo de Machine Learning\n",
    "\n",
    "En el ejercicio tendrás que programas parte de un código python. En concreto, las partes a programar tienen las siguientes características:\n",
    "+ Vienen precedidas por el comentario: __########INSERTAR CODIGO AQUI__. Eso quiere decir que la parte a programar será en la línea o líneas inmediatamente inferiores\n",
    "+ En concreto tendrás que rellenar aquellas partes en las que ponga la  palabra clave __None__ (elimina la palabra None y escribe tu código)\n",
    "+ Es posible que tengas que contestar a preguntas con texto. Para ello se han habilitado celdas de texto vacías, que podrás rellenar\n",
    "\n",
    "__Descripción__:\n",
    "La página https://www.tutiempo.net/clima/ws-82210.html contiene información histórica sobre distintos indicadores meteorológicos en una ubicación concreta, Madrid / Barajas.\n",
    "\n",
    "Nuestros objetivos van a ser:\n",
    "1. Hacer scraping sobre la página para obtener como resultado un dataframe de pandas (una tabla) que tenga todos los datos que hay en la web\n",
    "\n",
    "2. Limpiar y transformar los datos para que podamos hacer mineria de datos sobre ellos\n",
    "\n",
    "3. Análisis exploratorio de datos y detección de outilers\n",
    "\n",
    "4. Generacion de un pequeño sistema predictivo (clasificación) "
   ],
   "metadata": {
    "collapsed": false
   }
  },
  {
   "cell_type": "code",
   "execution_count": 1,
   "outputs": [],
   "source": [
    "########INSERTAR CODIGO AQUI\n",
    "import numpy as np\n",
    "import pandas as pd\n",
    "import matplotlib.pyplot as plt\n",
    "import requests\n",
    "from bs4 import BeautifulSoup\n",
    "from io import StringIO\n",
    "from sklearn.preprocessing import StandardScaler"
   ],
   "metadata": {
    "collapsed": false,
    "ExecuteTime": {
     "end_time": "2023-11-12T18:17:05.230397500Z",
     "start_time": "2023-11-12T18:16:57.079085200Z"
    }
   }
  },
  {
   "cell_type": "markdown",
   "metadata": {},
   "source": [
    "* A continuación hacemos la petición al servidor de la web y vemos que el estado resultante es adecuado"
   ]
  },
  {
   "cell_type": "code",
   "execution_count": 2,
   "metadata": {
    "ExecuteTime": {
     "end_time": "2023-11-12T18:17:06.523956900Z",
     "start_time": "2023-11-12T18:17:05.230397500Z"
    }
   },
   "outputs": [
    {
     "name": "stdout",
     "output_type": "stream",
     "text": [
      "Tu peticion ha obtenido el código de estado: 200\n"
     ]
    }
   ],
   "source": [
    "#Hacemos la petición mediante un get de requests\n",
    "########INSERTAR CODIGO AQUI\n",
    "res = requests.get('https://www.tutiempo.net/clima/ws-82210.html')\n",
    "\n",
    "#Observamos el código de estado de nuestra petición\n",
    "########INSERTAR CODIGO AQUI\n",
    "print(f\"Tu peticion ha obtenido el código de estado: {res.status_code}\")"
   ]
  },
  {
   "cell_type": "markdown",
   "metadata": {},
   "source": [
    "* Ahora vamos a usar BeautifulSoup para parsear el contenido de res. Usa el parser 'html'. Lo guardaremos en la variable soup"
   ]
  },
  {
   "cell_type": "code",
   "execution_count": 3,
   "metadata": {
    "ExecuteTime": {
     "end_time": "2023-11-12T18:17:06.629604100Z",
     "start_time": "2023-11-12T18:17:06.535479Z"
    }
   },
   "outputs": [],
   "source": [
    "#Parseamos el contenido de nuestra petición con BeautifulSoup, con parser tipo 'html'\n",
    "########INSERTAR CODIGO AQUI\n",
    "soup = BeautifulSoup(res.content, 'html.parser')"
   ]
  },
  {
   "cell_type": "markdown",
   "metadata": {},
   "source": [
    "* Antes de empezar, vamos a guardarnos en una variable el título de la web, ya que luego lo usaremos para nombrar nuestras tablas\n",
    "\n",
    "__TIP 1__: Busca con el inspector del navegador el nombre del tag del título ('Clima Madrid / Barajas Datos climáticos: xxx) y la clase que tiene asignada ese tag\n",
    "\n",
    "__TIP 2__: usa la función __.find('nombre_tag', class_='clase_del_tag')__ de BeautifulSoup"
   ]
  },
  {
   "cell_type": "code",
   "execution_count": 4,
   "metadata": {
    "ExecuteTime": {
     "end_time": "2023-11-12T18:17:16.484643500Z",
     "start_time": "2023-11-12T18:17:16.381753700Z"
    }
   },
   "outputs": [
    {
     "name": "stdout",
     "output_type": "stream",
     "text": [
      "El titulo de la página es: Clima Madrid / Barajas Datos climáticos:  1973 - 2023\n"
     ]
    }
   ],
   "source": [
    "#Guardamos la información del tag\n",
    "########INSERTAR CODIGO AQUI\n",
    "div_titulo = soup.find('div', class_='titulo')\n",
    "\n",
    "#Obtenemos el texto en dicho tag\n",
    "########INSERTAR CODIGO AQUI\n",
    "titulo = div_titulo.h2.text\n",
    "\n",
    "print(f'El titulo de la página es: {titulo}')"
   ]
  },
  {
   "cell_type": "markdown",
   "metadata": {},
   "source": [
    "* A continuación vamos a pasar la tabla de datos a un dataframe de pandas.\n",
    "1. Vamos a guardar todos los datos del tag 'table'. Usa para ello la función __find__ de BeautifulSoup, teniendo en cuenta la clase de ese tag"
   ]
  },
  {
   "cell_type": "code",
   "execution_count": 5,
   "metadata": {
    "ExecuteTime": {
     "end_time": "2023-11-12T18:17:19.021158600Z",
     "start_time": "2023-11-12T18:17:18.883409800Z"
    }
   },
   "outputs": [
    {
     "name": "stdout",
     "output_type": "stream",
     "text": [
      "Las dos primeras entradas de la tabla son:\n"
     ]
    },
    {
     "data": {
      "text/plain": "[<tr><th>Año</th><th><abbr class=\"tooltip\" title=\"Temperatura media anual\">T</abbr></th><th><abbr class=\"tooltip\" title=\"Temperatura máxima media anual\">TM</abbr></th><th><abbr class=\"tooltip\" title=\"Temperatura mínima media anual\">Tm</abbr></th><th><abbr class=\"tooltip\" title=\"Precipitación total anual de lluvia y/o nieve derretida (mm)\">PP</abbr></th><th><abbr class=\"tooltip\" title=\"Velocidad media anual del viento (Km/h)\">V</abbr></th><th><abbr class=\"tooltip\" title=\"Total días con lluvia durante el año\">RA</abbr></th><th><abbr class=\"tooltip\" title=\"Total días que nevó durante el año\">SN</abbr></th><th><abbr class=\"tooltip\" title=\"Total días con tormenta durante el año\">TS</abbr></th><th><abbr class=\"tooltip\" title=\"Total días con niebla durante el año\">FG</abbr></th><th><abbr class=\"tooltip\" title=\"Total días con tornados o nubes de embudo durante el año\">TN</abbr></th><th><abbr class=\"tooltip\" title=\"Total días con granizo durante el año\">GR</abbr></th></tr>,\n <tr><td class=\"tc1\"><a href=\"/clima/1973/ws-82210.html\" title=\"Clima 1973\"><strong>1973</strong></a></td><td class=\"\">13.3</td><td class=\"\">20.5</td><td class=\"\">6.4</td><td>332.99</td><td>8.2</td><td>94</td><td>5</td><td>22</td><td>18</td><td>0</td><td>0</td></tr>]"
     },
     "metadata": {},
     "output_type": "display_data"
    }
   ],
   "source": [
    "#Accedemos al tag de tipo 'table', teniendo en cuenta su clase\n",
    "########INSERTAR CODIGO AQUI\n",
    "tag_table = soup.find('table', class_='medias')\n",
    "\n",
    "print('Las dos primeras entradas de la tabla son:\\n')\n",
    "display(tag_table.find_all(\"tr\")[0:2])"
   ]
  },
  {
   "cell_type": "markdown",
   "metadata": {},
   "source": [
    "2. Almacenamos la información del tag de la tabla en un dataframe de Pandas y visualizamos su dimension y las 5 primeras filas\n",
    "\n",
    "__TIP 1:__ Para crear el data frame usa la función de pandas __read_html(str(tag))[0]__\n",
    "\n",
    "__TIP 2:__ La dimension de un dataframe, al igual que de un array, se puede ver con .shape\n",
    "\n",
    "__TIP 2:__ Para visualizar las primeras filas, usa una función de pandas, no un bucle"
   ]
  },
  {
   "cell_type": "code",
   "execution_count": 6,
   "metadata": {
    "ExecuteTime": {
     "end_time": "2023-11-12T18:17:21.319368900Z",
     "start_time": "2023-11-12T18:17:21.107169100Z"
    }
   },
   "outputs": [
    {
     "name": "stdout",
     "output_type": "stream",
     "text": [
      "Nuestra tabla tiene esta dimension: (51, 12)\n"
     ]
    },
    {
     "data": {
      "text/plain": "    Año     T    TM   Tm      PP    V   RA SN  TS  FG TN GR\n0  1973  13.3  20.5  6.4  332.99  8.2   94  5  22  18  0  0\n1  1974  13.3  20.2  6.7  320.02  8.5  107  0  27  27  0  3\n2  1975  13.3  20.1  6.9  372.64  8.2  123  2  26  15  0  2\n3  1976  13.3  20.1  7.0  530.60  7.3  125  2  38  20  0  1\n4  1977  13.5  19.8  7.4  698.54  8.0  134  8  18  42  0  6",
      "text/html": "<div>\n<style scoped>\n    .dataframe tbody tr th:only-of-type {\n        vertical-align: middle;\n    }\n\n    .dataframe tbody tr th {\n        vertical-align: top;\n    }\n\n    .dataframe thead th {\n        text-align: right;\n    }\n</style>\n<table border=\"1\" class=\"dataframe\">\n  <thead>\n    <tr style=\"text-align: right;\">\n      <th></th>\n      <th>Año</th>\n      <th>T</th>\n      <th>TM</th>\n      <th>Tm</th>\n      <th>PP</th>\n      <th>V</th>\n      <th>RA</th>\n      <th>SN</th>\n      <th>TS</th>\n      <th>FG</th>\n      <th>TN</th>\n      <th>GR</th>\n    </tr>\n  </thead>\n  <tbody>\n    <tr>\n      <th>0</th>\n      <td>1973</td>\n      <td>13.3</td>\n      <td>20.5</td>\n      <td>6.4</td>\n      <td>332.99</td>\n      <td>8.2</td>\n      <td>94</td>\n      <td>5</td>\n      <td>22</td>\n      <td>18</td>\n      <td>0</td>\n      <td>0</td>\n    </tr>\n    <tr>\n      <th>1</th>\n      <td>1974</td>\n      <td>13.3</td>\n      <td>20.2</td>\n      <td>6.7</td>\n      <td>320.02</td>\n      <td>8.5</td>\n      <td>107</td>\n      <td>0</td>\n      <td>27</td>\n      <td>27</td>\n      <td>0</td>\n      <td>3</td>\n    </tr>\n    <tr>\n      <th>2</th>\n      <td>1975</td>\n      <td>13.3</td>\n      <td>20.1</td>\n      <td>6.9</td>\n      <td>372.64</td>\n      <td>8.2</td>\n      <td>123</td>\n      <td>2</td>\n      <td>26</td>\n      <td>15</td>\n      <td>0</td>\n      <td>2</td>\n    </tr>\n    <tr>\n      <th>3</th>\n      <td>1976</td>\n      <td>13.3</td>\n      <td>20.1</td>\n      <td>7.0</td>\n      <td>530.60</td>\n      <td>7.3</td>\n      <td>125</td>\n      <td>2</td>\n      <td>38</td>\n      <td>20</td>\n      <td>0</td>\n      <td>1</td>\n    </tr>\n    <tr>\n      <th>4</th>\n      <td>1977</td>\n      <td>13.5</td>\n      <td>19.8</td>\n      <td>7.4</td>\n      <td>698.54</td>\n      <td>8.0</td>\n      <td>134</td>\n      <td>8</td>\n      <td>18</td>\n      <td>42</td>\n      <td>0</td>\n      <td>6</td>\n    </tr>\n  </tbody>\n</table>\n</div>"
     },
     "execution_count": 6,
     "metadata": {},
     "output_type": "execute_result"
    }
   ],
   "source": [
    "#Creamos el dataframe (tabla de datos) a partir del tag\n",
    "########INSERTAR CODIGO AQUI\n",
    "df = pd.read_html(StringIO(str(tag_table)))[\n",
    "    0]  # El IDE me sugiere que use StringIO para envolver el objeto HTML. Hace lo primero en un futuro será obsoleto\n",
    "\n",
    "#Vemos la dimensión de nuestra tabla\n",
    "dimension = df.shape\n",
    "########INSERTAR CODIGO AQUI\n",
    "print(f'Nuestra tabla tiene esta dimension: {dimension}')\n",
    "\n",
    "#Visualizamos las primeras 5 muestras de nuestro dataframe\n",
    "df.head(5)"
   ]
  },
  {
   "cell_type": "markdown",
   "metadata": {},
   "source": [
    "__Pregunta__: Si vamos a usar estos datos para un sistema de Machine Learning: 1) ¿Hasta cuantas dimensiones crees que podría tener cada muestra?, 2) ¿Qué tamaño (número de muestras) tendría nuestro dataset inicial? Responde brevemente pero de forma razonada a ambas preguntas en la siguiente celda.\n",
    "\n",
    "__A CONTINUACIÓN CELDA A RELLENAR POR EL ALUMNO__"
   ]
  },
  {
   "cell_type": "markdown",
   "metadata": {},
   "source": [
    "+ El número de dimensiones por muestra depende de las características seleccionadas que este caso son las temperaturas, lluvias, los tornados, etc. \n",
    "+ El tamaño del dataset dependerá de la duración y frecuencia de las observaciones que en este caso es desde el año 1973 hasta el año 2022 y se ve que va a seguir aumentando. "
   ]
  },
  {
   "cell_type": "markdown",
   "metadata": {},
   "source": [
    "#### 2 - Análisis preliminar, limpieza y transformación de nuestro dataset\n",
    "\n",
    "* Empezamos haciendo un doble análisis de los datos. Primero, siendo que no hay muchas filas, vamos a analizar si hay filas con datos faltantes (__TIP__: Busca las filas que tienen algún '-' y apunta su índice)"
   ]
  },
  {
   "cell_type": "code",
   "execution_count": 7,
   "metadata": {
    "ExecuteTime": {
     "end_time": "2023-11-12T18:17:28.574485500Z",
     "start_time": "2023-11-12T18:17:28.400519800Z"
    }
   },
   "outputs": [
    {
     "data": {
      "text/plain": "     Año     T    TM   Tm      PP     V   RA  SN  TS  FG TN GR\n0   1973  13.3  20.5  6.4  332.99   8.2   94   5  22  18  0  0\n1   1974  13.3  20.2  6.7  320.02   8.5  107   0  27  27  0  3\n2   1975  13.3  20.1  6.9  372.64   8.2  123   2  26  15  0  2\n3   1976  13.3  20.1  7.0  530.60   7.3  125   2  38  20  0  1\n4   1977  13.5  19.8  7.4  698.54   8.0  134   8  18  42  0  6\n5   1978  13.7  20.4  7.3  497.60   8.8  113   9  16  12  0  1\n6   1979  14.1  20.4  8.1  397.75   9.0  119   6  25  22  0  2\n7   1980  13.8  20.5  7.3  309.89   8.8  100   5  21  27  0  1\n8   1981  14.3  21.4  7.5  345.93   9.1   98   6  23   9  0  2\n9   1982  14.4  20.8  8.0  442.71   8.0   79   1  27  26  0  0\n10  1983  14.4  21.4  7.6  192.30   9.6   72   1  13  23  1  0\n11  1984  12.6  19.5  6.1  501.15  10.2  109   5  12  23  0  3\n12  1985  13.5  21.1  6.8  294.12   8.1   92   8  20  18  0  2\n13  1986  13.3  20.4  6.9  606.79   7.4   95   3  17  28  0  0\n14  1987  14.9  21.3  8.2  454.41   7.0  111   6  31  29  0  1\n15  1988  14.6  21.2  7.7  468.58   7.2  101   0  35  18  0  1\n16  1989  14.7  22.0  8.3  772.40   8.3  124   2  39  14  1  4\n17  1990  14.3  21.5  7.9  245.65   7.9   85   1  26  30  0  2\n18  1991  13.7  20.7  7.3  387.88   8.9   89   2  20  26  0  2\n19  1992  13.8  21.0  7.0  395.49   9.0   91   2  26  21  0  2\n20  1993  13.6  19.9  7.4  341.67   9.2   90   2  23  28  0  2\n21  1994  15.2  21.9  8.2  276.35   9.8   77   0  11  17  0  1\n22  1995  15.9  22.2  8.9  559.80   9.9   83   2  27  19  0  4\n23  1996  14.9  20.9  8.2  511.34   9.1   94   2  10  10  0  1\n24  1997  15.7  22.0  9.2  513.15   7.9  108   4  26  26  0  0\n25  1998  14.8  21.7  8.2  430.33   8.9   73   1  22  15  0  1\n26  1999  14.5  20.9  8.1  253.21  10.0   80   0  22  19  0  1\n27  2000  14.3  20.8  7.7  393.93   9.0   92   1  13  13  0  0\n28  2001  14.1  20.3  7.6  309.11   9.9   83   2  10  12  1  0\n29  2002     -     -    -       -     -   97   0  11  29  0  1\n30  2003  15.0  21.0  8.6  424.67   9.5   90   2  14  11  0  0\n31  2004  14.2  20.6  7.8  465.35   9.2   79   4  16  11  0  0\n32  2005     -     -    -       -     -    -   -   -   -  -  -\n33  2006  15.3  22.6  9.0  413.99  10.0   90   4  15  11  0  0\n34  2007  13.7  21.2  7.4  343.91   9.7   86   4  22  19  0  0\n35  2008  14.3  21.3  7.8  484.90  10.0  108   9  14  12  0  2\n36  2009  15.5  22.6  8.7  289.55  10.4   86   8  13  12  0  0\n37  2010  14.6  20.6  8.4  424.17  10.1  117  11  14  17  0  2\n38  2011  15.6  22.2  8.7  307.83   9.1   91   6  16  21  0  1\n39  2012  15.1  21.6  8.1  212.31  10.6   82   0  12  15  0  0\n40  2013  14.8  21.2  8.2  269.99  10.8  113   6  14  11  0  0\n41  2014  15.8  22.4  9.6  420.62  10.9  104   5  14  12  0  1\n42  2015  15.9  23.0  9.1  303.51   9.6   72   5  10   7  0  0\n43  2016  15.6  21.9  9.0  496.54   9.9  100   4   4  14  0  1\n44  2017  16.0  23.0  8.6  268.72   9.6   60   5  17  13  0  2\n45  2018  15.2  21.3  9.0  509.48   9.8  108   5  16  19  0  2\n46  2019  15.6  22.5  8.7  334.77  10.5   78   1  13   8  0  1\n47  2020  15.6  22.2  9.2  422.14   8.9   94   3  21  28  0  2\n48  2021  15.1  21.8  8.3  412.93   8.9   92   4  24  17  0  1\n49  2022  16.6  23.3  9.7  389.60   8.9   99   1  18  15  0  0\n50  2023     -     -    -       -     -    -   -   -   -  -  -",
      "text/html": "<div>\n<style scoped>\n    .dataframe tbody tr th:only-of-type {\n        vertical-align: middle;\n    }\n\n    .dataframe tbody tr th {\n        vertical-align: top;\n    }\n\n    .dataframe thead th {\n        text-align: right;\n    }\n</style>\n<table border=\"1\" class=\"dataframe\">\n  <thead>\n    <tr style=\"text-align: right;\">\n      <th></th>\n      <th>Año</th>\n      <th>T</th>\n      <th>TM</th>\n      <th>Tm</th>\n      <th>PP</th>\n      <th>V</th>\n      <th>RA</th>\n      <th>SN</th>\n      <th>TS</th>\n      <th>FG</th>\n      <th>TN</th>\n      <th>GR</th>\n    </tr>\n  </thead>\n  <tbody>\n    <tr>\n      <th>0</th>\n      <td>1973</td>\n      <td>13.3</td>\n      <td>20.5</td>\n      <td>6.4</td>\n      <td>332.99</td>\n      <td>8.2</td>\n      <td>94</td>\n      <td>5</td>\n      <td>22</td>\n      <td>18</td>\n      <td>0</td>\n      <td>0</td>\n    </tr>\n    <tr>\n      <th>1</th>\n      <td>1974</td>\n      <td>13.3</td>\n      <td>20.2</td>\n      <td>6.7</td>\n      <td>320.02</td>\n      <td>8.5</td>\n      <td>107</td>\n      <td>0</td>\n      <td>27</td>\n      <td>27</td>\n      <td>0</td>\n      <td>3</td>\n    </tr>\n    <tr>\n      <th>2</th>\n      <td>1975</td>\n      <td>13.3</td>\n      <td>20.1</td>\n      <td>6.9</td>\n      <td>372.64</td>\n      <td>8.2</td>\n      <td>123</td>\n      <td>2</td>\n      <td>26</td>\n      <td>15</td>\n      <td>0</td>\n      <td>2</td>\n    </tr>\n    <tr>\n      <th>3</th>\n      <td>1976</td>\n      <td>13.3</td>\n      <td>20.1</td>\n      <td>7.0</td>\n      <td>530.60</td>\n      <td>7.3</td>\n      <td>125</td>\n      <td>2</td>\n      <td>38</td>\n      <td>20</td>\n      <td>0</td>\n      <td>1</td>\n    </tr>\n    <tr>\n      <th>4</th>\n      <td>1977</td>\n      <td>13.5</td>\n      <td>19.8</td>\n      <td>7.4</td>\n      <td>698.54</td>\n      <td>8.0</td>\n      <td>134</td>\n      <td>8</td>\n      <td>18</td>\n      <td>42</td>\n      <td>0</td>\n      <td>6</td>\n    </tr>\n    <tr>\n      <th>5</th>\n      <td>1978</td>\n      <td>13.7</td>\n      <td>20.4</td>\n      <td>7.3</td>\n      <td>497.60</td>\n      <td>8.8</td>\n      <td>113</td>\n      <td>9</td>\n      <td>16</td>\n      <td>12</td>\n      <td>0</td>\n      <td>1</td>\n    </tr>\n    <tr>\n      <th>6</th>\n      <td>1979</td>\n      <td>14.1</td>\n      <td>20.4</td>\n      <td>8.1</td>\n      <td>397.75</td>\n      <td>9.0</td>\n      <td>119</td>\n      <td>6</td>\n      <td>25</td>\n      <td>22</td>\n      <td>0</td>\n      <td>2</td>\n    </tr>\n    <tr>\n      <th>7</th>\n      <td>1980</td>\n      <td>13.8</td>\n      <td>20.5</td>\n      <td>7.3</td>\n      <td>309.89</td>\n      <td>8.8</td>\n      <td>100</td>\n      <td>5</td>\n      <td>21</td>\n      <td>27</td>\n      <td>0</td>\n      <td>1</td>\n    </tr>\n    <tr>\n      <th>8</th>\n      <td>1981</td>\n      <td>14.3</td>\n      <td>21.4</td>\n      <td>7.5</td>\n      <td>345.93</td>\n      <td>9.1</td>\n      <td>98</td>\n      <td>6</td>\n      <td>23</td>\n      <td>9</td>\n      <td>0</td>\n      <td>2</td>\n    </tr>\n    <tr>\n      <th>9</th>\n      <td>1982</td>\n      <td>14.4</td>\n      <td>20.8</td>\n      <td>8.0</td>\n      <td>442.71</td>\n      <td>8.0</td>\n      <td>79</td>\n      <td>1</td>\n      <td>27</td>\n      <td>26</td>\n      <td>0</td>\n      <td>0</td>\n    </tr>\n    <tr>\n      <th>10</th>\n      <td>1983</td>\n      <td>14.4</td>\n      <td>21.4</td>\n      <td>7.6</td>\n      <td>192.30</td>\n      <td>9.6</td>\n      <td>72</td>\n      <td>1</td>\n      <td>13</td>\n      <td>23</td>\n      <td>1</td>\n      <td>0</td>\n    </tr>\n    <tr>\n      <th>11</th>\n      <td>1984</td>\n      <td>12.6</td>\n      <td>19.5</td>\n      <td>6.1</td>\n      <td>501.15</td>\n      <td>10.2</td>\n      <td>109</td>\n      <td>5</td>\n      <td>12</td>\n      <td>23</td>\n      <td>0</td>\n      <td>3</td>\n    </tr>\n    <tr>\n      <th>12</th>\n      <td>1985</td>\n      <td>13.5</td>\n      <td>21.1</td>\n      <td>6.8</td>\n      <td>294.12</td>\n      <td>8.1</td>\n      <td>92</td>\n      <td>8</td>\n      <td>20</td>\n      <td>18</td>\n      <td>0</td>\n      <td>2</td>\n    </tr>\n    <tr>\n      <th>13</th>\n      <td>1986</td>\n      <td>13.3</td>\n      <td>20.4</td>\n      <td>6.9</td>\n      <td>606.79</td>\n      <td>7.4</td>\n      <td>95</td>\n      <td>3</td>\n      <td>17</td>\n      <td>28</td>\n      <td>0</td>\n      <td>0</td>\n    </tr>\n    <tr>\n      <th>14</th>\n      <td>1987</td>\n      <td>14.9</td>\n      <td>21.3</td>\n      <td>8.2</td>\n      <td>454.41</td>\n      <td>7.0</td>\n      <td>111</td>\n      <td>6</td>\n      <td>31</td>\n      <td>29</td>\n      <td>0</td>\n      <td>1</td>\n    </tr>\n    <tr>\n      <th>15</th>\n      <td>1988</td>\n      <td>14.6</td>\n      <td>21.2</td>\n      <td>7.7</td>\n      <td>468.58</td>\n      <td>7.2</td>\n      <td>101</td>\n      <td>0</td>\n      <td>35</td>\n      <td>18</td>\n      <td>0</td>\n      <td>1</td>\n    </tr>\n    <tr>\n      <th>16</th>\n      <td>1989</td>\n      <td>14.7</td>\n      <td>22.0</td>\n      <td>8.3</td>\n      <td>772.40</td>\n      <td>8.3</td>\n      <td>124</td>\n      <td>2</td>\n      <td>39</td>\n      <td>14</td>\n      <td>1</td>\n      <td>4</td>\n    </tr>\n    <tr>\n      <th>17</th>\n      <td>1990</td>\n      <td>14.3</td>\n      <td>21.5</td>\n      <td>7.9</td>\n      <td>245.65</td>\n      <td>7.9</td>\n      <td>85</td>\n      <td>1</td>\n      <td>26</td>\n      <td>30</td>\n      <td>0</td>\n      <td>2</td>\n    </tr>\n    <tr>\n      <th>18</th>\n      <td>1991</td>\n      <td>13.7</td>\n      <td>20.7</td>\n      <td>7.3</td>\n      <td>387.88</td>\n      <td>8.9</td>\n      <td>89</td>\n      <td>2</td>\n      <td>20</td>\n      <td>26</td>\n      <td>0</td>\n      <td>2</td>\n    </tr>\n    <tr>\n      <th>19</th>\n      <td>1992</td>\n      <td>13.8</td>\n      <td>21.0</td>\n      <td>7.0</td>\n      <td>395.49</td>\n      <td>9.0</td>\n      <td>91</td>\n      <td>2</td>\n      <td>26</td>\n      <td>21</td>\n      <td>0</td>\n      <td>2</td>\n    </tr>\n    <tr>\n      <th>20</th>\n      <td>1993</td>\n      <td>13.6</td>\n      <td>19.9</td>\n      <td>7.4</td>\n      <td>341.67</td>\n      <td>9.2</td>\n      <td>90</td>\n      <td>2</td>\n      <td>23</td>\n      <td>28</td>\n      <td>0</td>\n      <td>2</td>\n    </tr>\n    <tr>\n      <th>21</th>\n      <td>1994</td>\n      <td>15.2</td>\n      <td>21.9</td>\n      <td>8.2</td>\n      <td>276.35</td>\n      <td>9.8</td>\n      <td>77</td>\n      <td>0</td>\n      <td>11</td>\n      <td>17</td>\n      <td>0</td>\n      <td>1</td>\n    </tr>\n    <tr>\n      <th>22</th>\n      <td>1995</td>\n      <td>15.9</td>\n      <td>22.2</td>\n      <td>8.9</td>\n      <td>559.80</td>\n      <td>9.9</td>\n      <td>83</td>\n      <td>2</td>\n      <td>27</td>\n      <td>19</td>\n      <td>0</td>\n      <td>4</td>\n    </tr>\n    <tr>\n      <th>23</th>\n      <td>1996</td>\n      <td>14.9</td>\n      <td>20.9</td>\n      <td>8.2</td>\n      <td>511.34</td>\n      <td>9.1</td>\n      <td>94</td>\n      <td>2</td>\n      <td>10</td>\n      <td>10</td>\n      <td>0</td>\n      <td>1</td>\n    </tr>\n    <tr>\n      <th>24</th>\n      <td>1997</td>\n      <td>15.7</td>\n      <td>22.0</td>\n      <td>9.2</td>\n      <td>513.15</td>\n      <td>7.9</td>\n      <td>108</td>\n      <td>4</td>\n      <td>26</td>\n      <td>26</td>\n      <td>0</td>\n      <td>0</td>\n    </tr>\n    <tr>\n      <th>25</th>\n      <td>1998</td>\n      <td>14.8</td>\n      <td>21.7</td>\n      <td>8.2</td>\n      <td>430.33</td>\n      <td>8.9</td>\n      <td>73</td>\n      <td>1</td>\n      <td>22</td>\n      <td>15</td>\n      <td>0</td>\n      <td>1</td>\n    </tr>\n    <tr>\n      <th>26</th>\n      <td>1999</td>\n      <td>14.5</td>\n      <td>20.9</td>\n      <td>8.1</td>\n      <td>253.21</td>\n      <td>10.0</td>\n      <td>80</td>\n      <td>0</td>\n      <td>22</td>\n      <td>19</td>\n      <td>0</td>\n      <td>1</td>\n    </tr>\n    <tr>\n      <th>27</th>\n      <td>2000</td>\n      <td>14.3</td>\n      <td>20.8</td>\n      <td>7.7</td>\n      <td>393.93</td>\n      <td>9.0</td>\n      <td>92</td>\n      <td>1</td>\n      <td>13</td>\n      <td>13</td>\n      <td>0</td>\n      <td>0</td>\n    </tr>\n    <tr>\n      <th>28</th>\n      <td>2001</td>\n      <td>14.1</td>\n      <td>20.3</td>\n      <td>7.6</td>\n      <td>309.11</td>\n      <td>9.9</td>\n      <td>83</td>\n      <td>2</td>\n      <td>10</td>\n      <td>12</td>\n      <td>1</td>\n      <td>0</td>\n    </tr>\n    <tr>\n      <th>29</th>\n      <td>2002</td>\n      <td>-</td>\n      <td>-</td>\n      <td>-</td>\n      <td>-</td>\n      <td>-</td>\n      <td>97</td>\n      <td>0</td>\n      <td>11</td>\n      <td>29</td>\n      <td>0</td>\n      <td>1</td>\n    </tr>\n    <tr>\n      <th>30</th>\n      <td>2003</td>\n      <td>15.0</td>\n      <td>21.0</td>\n      <td>8.6</td>\n      <td>424.67</td>\n      <td>9.5</td>\n      <td>90</td>\n      <td>2</td>\n      <td>14</td>\n      <td>11</td>\n      <td>0</td>\n      <td>0</td>\n    </tr>\n    <tr>\n      <th>31</th>\n      <td>2004</td>\n      <td>14.2</td>\n      <td>20.6</td>\n      <td>7.8</td>\n      <td>465.35</td>\n      <td>9.2</td>\n      <td>79</td>\n      <td>4</td>\n      <td>16</td>\n      <td>11</td>\n      <td>0</td>\n      <td>0</td>\n    </tr>\n    <tr>\n      <th>32</th>\n      <td>2005</td>\n      <td>-</td>\n      <td>-</td>\n      <td>-</td>\n      <td>-</td>\n      <td>-</td>\n      <td>-</td>\n      <td>-</td>\n      <td>-</td>\n      <td>-</td>\n      <td>-</td>\n      <td>-</td>\n    </tr>\n    <tr>\n      <th>33</th>\n      <td>2006</td>\n      <td>15.3</td>\n      <td>22.6</td>\n      <td>9.0</td>\n      <td>413.99</td>\n      <td>10.0</td>\n      <td>90</td>\n      <td>4</td>\n      <td>15</td>\n      <td>11</td>\n      <td>0</td>\n      <td>0</td>\n    </tr>\n    <tr>\n      <th>34</th>\n      <td>2007</td>\n      <td>13.7</td>\n      <td>21.2</td>\n      <td>7.4</td>\n      <td>343.91</td>\n      <td>9.7</td>\n      <td>86</td>\n      <td>4</td>\n      <td>22</td>\n      <td>19</td>\n      <td>0</td>\n      <td>0</td>\n    </tr>\n    <tr>\n      <th>35</th>\n      <td>2008</td>\n      <td>14.3</td>\n      <td>21.3</td>\n      <td>7.8</td>\n      <td>484.90</td>\n      <td>10.0</td>\n      <td>108</td>\n      <td>9</td>\n      <td>14</td>\n      <td>12</td>\n      <td>0</td>\n      <td>2</td>\n    </tr>\n    <tr>\n      <th>36</th>\n      <td>2009</td>\n      <td>15.5</td>\n      <td>22.6</td>\n      <td>8.7</td>\n      <td>289.55</td>\n      <td>10.4</td>\n      <td>86</td>\n      <td>8</td>\n      <td>13</td>\n      <td>12</td>\n      <td>0</td>\n      <td>0</td>\n    </tr>\n    <tr>\n      <th>37</th>\n      <td>2010</td>\n      <td>14.6</td>\n      <td>20.6</td>\n      <td>8.4</td>\n      <td>424.17</td>\n      <td>10.1</td>\n      <td>117</td>\n      <td>11</td>\n      <td>14</td>\n      <td>17</td>\n      <td>0</td>\n      <td>2</td>\n    </tr>\n    <tr>\n      <th>38</th>\n      <td>2011</td>\n      <td>15.6</td>\n      <td>22.2</td>\n      <td>8.7</td>\n      <td>307.83</td>\n      <td>9.1</td>\n      <td>91</td>\n      <td>6</td>\n      <td>16</td>\n      <td>21</td>\n      <td>0</td>\n      <td>1</td>\n    </tr>\n    <tr>\n      <th>39</th>\n      <td>2012</td>\n      <td>15.1</td>\n      <td>21.6</td>\n      <td>8.1</td>\n      <td>212.31</td>\n      <td>10.6</td>\n      <td>82</td>\n      <td>0</td>\n      <td>12</td>\n      <td>15</td>\n      <td>0</td>\n      <td>0</td>\n    </tr>\n    <tr>\n      <th>40</th>\n      <td>2013</td>\n      <td>14.8</td>\n      <td>21.2</td>\n      <td>8.2</td>\n      <td>269.99</td>\n      <td>10.8</td>\n      <td>113</td>\n      <td>6</td>\n      <td>14</td>\n      <td>11</td>\n      <td>0</td>\n      <td>0</td>\n    </tr>\n    <tr>\n      <th>41</th>\n      <td>2014</td>\n      <td>15.8</td>\n      <td>22.4</td>\n      <td>9.6</td>\n      <td>420.62</td>\n      <td>10.9</td>\n      <td>104</td>\n      <td>5</td>\n      <td>14</td>\n      <td>12</td>\n      <td>0</td>\n      <td>1</td>\n    </tr>\n    <tr>\n      <th>42</th>\n      <td>2015</td>\n      <td>15.9</td>\n      <td>23.0</td>\n      <td>9.1</td>\n      <td>303.51</td>\n      <td>9.6</td>\n      <td>72</td>\n      <td>5</td>\n      <td>10</td>\n      <td>7</td>\n      <td>0</td>\n      <td>0</td>\n    </tr>\n    <tr>\n      <th>43</th>\n      <td>2016</td>\n      <td>15.6</td>\n      <td>21.9</td>\n      <td>9.0</td>\n      <td>496.54</td>\n      <td>9.9</td>\n      <td>100</td>\n      <td>4</td>\n      <td>4</td>\n      <td>14</td>\n      <td>0</td>\n      <td>1</td>\n    </tr>\n    <tr>\n      <th>44</th>\n      <td>2017</td>\n      <td>16.0</td>\n      <td>23.0</td>\n      <td>8.6</td>\n      <td>268.72</td>\n      <td>9.6</td>\n      <td>60</td>\n      <td>5</td>\n      <td>17</td>\n      <td>13</td>\n      <td>0</td>\n      <td>2</td>\n    </tr>\n    <tr>\n      <th>45</th>\n      <td>2018</td>\n      <td>15.2</td>\n      <td>21.3</td>\n      <td>9.0</td>\n      <td>509.48</td>\n      <td>9.8</td>\n      <td>108</td>\n      <td>5</td>\n      <td>16</td>\n      <td>19</td>\n      <td>0</td>\n      <td>2</td>\n    </tr>\n    <tr>\n      <th>46</th>\n      <td>2019</td>\n      <td>15.6</td>\n      <td>22.5</td>\n      <td>8.7</td>\n      <td>334.77</td>\n      <td>10.5</td>\n      <td>78</td>\n      <td>1</td>\n      <td>13</td>\n      <td>8</td>\n      <td>0</td>\n      <td>1</td>\n    </tr>\n    <tr>\n      <th>47</th>\n      <td>2020</td>\n      <td>15.6</td>\n      <td>22.2</td>\n      <td>9.2</td>\n      <td>422.14</td>\n      <td>8.9</td>\n      <td>94</td>\n      <td>3</td>\n      <td>21</td>\n      <td>28</td>\n      <td>0</td>\n      <td>2</td>\n    </tr>\n    <tr>\n      <th>48</th>\n      <td>2021</td>\n      <td>15.1</td>\n      <td>21.8</td>\n      <td>8.3</td>\n      <td>412.93</td>\n      <td>8.9</td>\n      <td>92</td>\n      <td>4</td>\n      <td>24</td>\n      <td>17</td>\n      <td>0</td>\n      <td>1</td>\n    </tr>\n    <tr>\n      <th>49</th>\n      <td>2022</td>\n      <td>16.6</td>\n      <td>23.3</td>\n      <td>9.7</td>\n      <td>389.60</td>\n      <td>8.9</td>\n      <td>99</td>\n      <td>1</td>\n      <td>18</td>\n      <td>15</td>\n      <td>0</td>\n      <td>0</td>\n    </tr>\n    <tr>\n      <th>50</th>\n      <td>2023</td>\n      <td>-</td>\n      <td>-</td>\n      <td>-</td>\n      <td>-</td>\n      <td>-</td>\n      <td>-</td>\n      <td>-</td>\n      <td>-</td>\n      <td>-</td>\n      <td>-</td>\n      <td>-</td>\n    </tr>\n  </tbody>\n</table>\n</div>"
     },
     "metadata": {},
     "output_type": "display_data"
    }
   ],
   "source": [
    "display(df)"
   ]
  },
  {
   "cell_type": "markdown",
   "metadata": {},
   "source": [
    "* Vamos a limpiar los datos:\n",
    "1. Generamos una lista en python con los índices de las filas con datos faltantes (Ejemplo de lista l=[elemento_1, elemento_2, ..., elemento_n])\n",
    "2. Eliminamos del dataframe las filas identificadas como malas (con datos faltantes). El resultado lo guardamos en un segundo dataframe\n",
    "\n",
    "__TIP:__ Para eliminar filas de un dataframe usaremos la función __.drop(lista_filas_a_eliminar, axis = 0, inplace = False)__"
   ]
  },
  {
   "cell_type": "code",
   "execution_count": 8,
   "metadata": {
    "ExecuteTime": {
     "end_time": "2023-11-12T18:17:31.135537200Z",
     "start_time": "2023-11-12T18:17:30.932201400Z"
    }
   },
   "outputs": [
    {
     "name": "stdout",
     "output_type": "stream",
     "text": [
      "Mis datos limpios son:\n"
     ]
    },
    {
     "data": {
      "text/plain": "     Año     T    TM   Tm      PP     V   RA  SN  TS  FG TN GR\n0   1973  13.3  20.5  6.4  332.99   8.2   94   5  22  18  0  0\n1   1974  13.3  20.2  6.7  320.02   8.5  107   0  27  27  0  3\n2   1975  13.3  20.1  6.9  372.64   8.2  123   2  26  15  0  2\n3   1976  13.3  20.1  7.0  530.60   7.3  125   2  38  20  0  1\n4   1977  13.5  19.8  7.4  698.54   8.0  134   8  18  42  0  6\n5   1978  13.7  20.4  7.3  497.60   8.8  113   9  16  12  0  1\n6   1979  14.1  20.4  8.1  397.75   9.0  119   6  25  22  0  2\n7   1980  13.8  20.5  7.3  309.89   8.8  100   5  21  27  0  1\n8   1981  14.3  21.4  7.5  345.93   9.1   98   6  23   9  0  2\n9   1982  14.4  20.8  8.0  442.71   8.0   79   1  27  26  0  0\n10  1983  14.4  21.4  7.6  192.30   9.6   72   1  13  23  1  0\n11  1984  12.6  19.5  6.1  501.15  10.2  109   5  12  23  0  3\n12  1985  13.5  21.1  6.8  294.12   8.1   92   8  20  18  0  2\n13  1986  13.3  20.4  6.9  606.79   7.4   95   3  17  28  0  0\n14  1987  14.9  21.3  8.2  454.41   7.0  111   6  31  29  0  1\n15  1988  14.6  21.2  7.7  468.58   7.2  101   0  35  18  0  1\n16  1989  14.7  22.0  8.3  772.40   8.3  124   2  39  14  1  4\n17  1990  14.3  21.5  7.9  245.65   7.9   85   1  26  30  0  2\n18  1991  13.7  20.7  7.3  387.88   8.9   89   2  20  26  0  2\n19  1992  13.8  21.0  7.0  395.49   9.0   91   2  26  21  0  2\n20  1993  13.6  19.9  7.4  341.67   9.2   90   2  23  28  0  2\n21  1994  15.2  21.9  8.2  276.35   9.8   77   0  11  17  0  1\n22  1995  15.9  22.2  8.9  559.80   9.9   83   2  27  19  0  4\n23  1996  14.9  20.9  8.2  511.34   9.1   94   2  10  10  0  1\n24  1997  15.7  22.0  9.2  513.15   7.9  108   4  26  26  0  0\n25  1998  14.8  21.7  8.2  430.33   8.9   73   1  22  15  0  1\n26  1999  14.5  20.9  8.1  253.21  10.0   80   0  22  19  0  1\n27  2000  14.3  20.8  7.7  393.93   9.0   92   1  13  13  0  0\n28  2001  14.1  20.3  7.6  309.11   9.9   83   2  10  12  1  0\n30  2003  15.0  21.0  8.6  424.67   9.5   90   2  14  11  0  0\n31  2004  14.2  20.6  7.8  465.35   9.2   79   4  16  11  0  0\n33  2006  15.3  22.6  9.0  413.99  10.0   90   4  15  11  0  0\n34  2007  13.7  21.2  7.4  343.91   9.7   86   4  22  19  0  0\n35  2008  14.3  21.3  7.8  484.90  10.0  108   9  14  12  0  2\n36  2009  15.5  22.6  8.7  289.55  10.4   86   8  13  12  0  0\n37  2010  14.6  20.6  8.4  424.17  10.1  117  11  14  17  0  2\n38  2011  15.6  22.2  8.7  307.83   9.1   91   6  16  21  0  1\n39  2012  15.1  21.6  8.1  212.31  10.6   82   0  12  15  0  0\n40  2013  14.8  21.2  8.2  269.99  10.8  113   6  14  11  0  0\n41  2014  15.8  22.4  9.6  420.62  10.9  104   5  14  12  0  1\n42  2015  15.9  23.0  9.1  303.51   9.6   72   5  10   7  0  0\n43  2016  15.6  21.9  9.0  496.54   9.9  100   4   4  14  0  1\n44  2017  16.0  23.0  8.6  268.72   9.6   60   5  17  13  0  2\n45  2018  15.2  21.3  9.0  509.48   9.8  108   5  16  19  0  2\n46  2019  15.6  22.5  8.7  334.77  10.5   78   1  13   8  0  1\n47  2020  15.6  22.2  9.2  422.14   8.9   94   3  21  28  0  2\n48  2021  15.1  21.8  8.3  412.93   8.9   92   4  24  17  0  1\n49  2022  16.6  23.3  9.7  389.60   8.9   99   1  18  15  0  0",
      "text/html": "<div>\n<style scoped>\n    .dataframe tbody tr th:only-of-type {\n        vertical-align: middle;\n    }\n\n    .dataframe tbody tr th {\n        vertical-align: top;\n    }\n\n    .dataframe thead th {\n        text-align: right;\n    }\n</style>\n<table border=\"1\" class=\"dataframe\">\n  <thead>\n    <tr style=\"text-align: right;\">\n      <th></th>\n      <th>Año</th>\n      <th>T</th>\n      <th>TM</th>\n      <th>Tm</th>\n      <th>PP</th>\n      <th>V</th>\n      <th>RA</th>\n      <th>SN</th>\n      <th>TS</th>\n      <th>FG</th>\n      <th>TN</th>\n      <th>GR</th>\n    </tr>\n  </thead>\n  <tbody>\n    <tr>\n      <th>0</th>\n      <td>1973</td>\n      <td>13.3</td>\n      <td>20.5</td>\n      <td>6.4</td>\n      <td>332.99</td>\n      <td>8.2</td>\n      <td>94</td>\n      <td>5</td>\n      <td>22</td>\n      <td>18</td>\n      <td>0</td>\n      <td>0</td>\n    </tr>\n    <tr>\n      <th>1</th>\n      <td>1974</td>\n      <td>13.3</td>\n      <td>20.2</td>\n      <td>6.7</td>\n      <td>320.02</td>\n      <td>8.5</td>\n      <td>107</td>\n      <td>0</td>\n      <td>27</td>\n      <td>27</td>\n      <td>0</td>\n      <td>3</td>\n    </tr>\n    <tr>\n      <th>2</th>\n      <td>1975</td>\n      <td>13.3</td>\n      <td>20.1</td>\n      <td>6.9</td>\n      <td>372.64</td>\n      <td>8.2</td>\n      <td>123</td>\n      <td>2</td>\n      <td>26</td>\n      <td>15</td>\n      <td>0</td>\n      <td>2</td>\n    </tr>\n    <tr>\n      <th>3</th>\n      <td>1976</td>\n      <td>13.3</td>\n      <td>20.1</td>\n      <td>7.0</td>\n      <td>530.60</td>\n      <td>7.3</td>\n      <td>125</td>\n      <td>2</td>\n      <td>38</td>\n      <td>20</td>\n      <td>0</td>\n      <td>1</td>\n    </tr>\n    <tr>\n      <th>4</th>\n      <td>1977</td>\n      <td>13.5</td>\n      <td>19.8</td>\n      <td>7.4</td>\n      <td>698.54</td>\n      <td>8.0</td>\n      <td>134</td>\n      <td>8</td>\n      <td>18</td>\n      <td>42</td>\n      <td>0</td>\n      <td>6</td>\n    </tr>\n    <tr>\n      <th>5</th>\n      <td>1978</td>\n      <td>13.7</td>\n      <td>20.4</td>\n      <td>7.3</td>\n      <td>497.60</td>\n      <td>8.8</td>\n      <td>113</td>\n      <td>9</td>\n      <td>16</td>\n      <td>12</td>\n      <td>0</td>\n      <td>1</td>\n    </tr>\n    <tr>\n      <th>6</th>\n      <td>1979</td>\n      <td>14.1</td>\n      <td>20.4</td>\n      <td>8.1</td>\n      <td>397.75</td>\n      <td>9.0</td>\n      <td>119</td>\n      <td>6</td>\n      <td>25</td>\n      <td>22</td>\n      <td>0</td>\n      <td>2</td>\n    </tr>\n    <tr>\n      <th>7</th>\n      <td>1980</td>\n      <td>13.8</td>\n      <td>20.5</td>\n      <td>7.3</td>\n      <td>309.89</td>\n      <td>8.8</td>\n      <td>100</td>\n      <td>5</td>\n      <td>21</td>\n      <td>27</td>\n      <td>0</td>\n      <td>1</td>\n    </tr>\n    <tr>\n      <th>8</th>\n      <td>1981</td>\n      <td>14.3</td>\n      <td>21.4</td>\n      <td>7.5</td>\n      <td>345.93</td>\n      <td>9.1</td>\n      <td>98</td>\n      <td>6</td>\n      <td>23</td>\n      <td>9</td>\n      <td>0</td>\n      <td>2</td>\n    </tr>\n    <tr>\n      <th>9</th>\n      <td>1982</td>\n      <td>14.4</td>\n      <td>20.8</td>\n      <td>8.0</td>\n      <td>442.71</td>\n      <td>8.0</td>\n      <td>79</td>\n      <td>1</td>\n      <td>27</td>\n      <td>26</td>\n      <td>0</td>\n      <td>0</td>\n    </tr>\n    <tr>\n      <th>10</th>\n      <td>1983</td>\n      <td>14.4</td>\n      <td>21.4</td>\n      <td>7.6</td>\n      <td>192.30</td>\n      <td>9.6</td>\n      <td>72</td>\n      <td>1</td>\n      <td>13</td>\n      <td>23</td>\n      <td>1</td>\n      <td>0</td>\n    </tr>\n    <tr>\n      <th>11</th>\n      <td>1984</td>\n      <td>12.6</td>\n      <td>19.5</td>\n      <td>6.1</td>\n      <td>501.15</td>\n      <td>10.2</td>\n      <td>109</td>\n      <td>5</td>\n      <td>12</td>\n      <td>23</td>\n      <td>0</td>\n      <td>3</td>\n    </tr>\n    <tr>\n      <th>12</th>\n      <td>1985</td>\n      <td>13.5</td>\n      <td>21.1</td>\n      <td>6.8</td>\n      <td>294.12</td>\n      <td>8.1</td>\n      <td>92</td>\n      <td>8</td>\n      <td>20</td>\n      <td>18</td>\n      <td>0</td>\n      <td>2</td>\n    </tr>\n    <tr>\n      <th>13</th>\n      <td>1986</td>\n      <td>13.3</td>\n      <td>20.4</td>\n      <td>6.9</td>\n      <td>606.79</td>\n      <td>7.4</td>\n      <td>95</td>\n      <td>3</td>\n      <td>17</td>\n      <td>28</td>\n      <td>0</td>\n      <td>0</td>\n    </tr>\n    <tr>\n      <th>14</th>\n      <td>1987</td>\n      <td>14.9</td>\n      <td>21.3</td>\n      <td>8.2</td>\n      <td>454.41</td>\n      <td>7.0</td>\n      <td>111</td>\n      <td>6</td>\n      <td>31</td>\n      <td>29</td>\n      <td>0</td>\n      <td>1</td>\n    </tr>\n    <tr>\n      <th>15</th>\n      <td>1988</td>\n      <td>14.6</td>\n      <td>21.2</td>\n      <td>7.7</td>\n      <td>468.58</td>\n      <td>7.2</td>\n      <td>101</td>\n      <td>0</td>\n      <td>35</td>\n      <td>18</td>\n      <td>0</td>\n      <td>1</td>\n    </tr>\n    <tr>\n      <th>16</th>\n      <td>1989</td>\n      <td>14.7</td>\n      <td>22.0</td>\n      <td>8.3</td>\n      <td>772.40</td>\n      <td>8.3</td>\n      <td>124</td>\n      <td>2</td>\n      <td>39</td>\n      <td>14</td>\n      <td>1</td>\n      <td>4</td>\n    </tr>\n    <tr>\n      <th>17</th>\n      <td>1990</td>\n      <td>14.3</td>\n      <td>21.5</td>\n      <td>7.9</td>\n      <td>245.65</td>\n      <td>7.9</td>\n      <td>85</td>\n      <td>1</td>\n      <td>26</td>\n      <td>30</td>\n      <td>0</td>\n      <td>2</td>\n    </tr>\n    <tr>\n      <th>18</th>\n      <td>1991</td>\n      <td>13.7</td>\n      <td>20.7</td>\n      <td>7.3</td>\n      <td>387.88</td>\n      <td>8.9</td>\n      <td>89</td>\n      <td>2</td>\n      <td>20</td>\n      <td>26</td>\n      <td>0</td>\n      <td>2</td>\n    </tr>\n    <tr>\n      <th>19</th>\n      <td>1992</td>\n      <td>13.8</td>\n      <td>21.0</td>\n      <td>7.0</td>\n      <td>395.49</td>\n      <td>9.0</td>\n      <td>91</td>\n      <td>2</td>\n      <td>26</td>\n      <td>21</td>\n      <td>0</td>\n      <td>2</td>\n    </tr>\n    <tr>\n      <th>20</th>\n      <td>1993</td>\n      <td>13.6</td>\n      <td>19.9</td>\n      <td>7.4</td>\n      <td>341.67</td>\n      <td>9.2</td>\n      <td>90</td>\n      <td>2</td>\n      <td>23</td>\n      <td>28</td>\n      <td>0</td>\n      <td>2</td>\n    </tr>\n    <tr>\n      <th>21</th>\n      <td>1994</td>\n      <td>15.2</td>\n      <td>21.9</td>\n      <td>8.2</td>\n      <td>276.35</td>\n      <td>9.8</td>\n      <td>77</td>\n      <td>0</td>\n      <td>11</td>\n      <td>17</td>\n      <td>0</td>\n      <td>1</td>\n    </tr>\n    <tr>\n      <th>22</th>\n      <td>1995</td>\n      <td>15.9</td>\n      <td>22.2</td>\n      <td>8.9</td>\n      <td>559.80</td>\n      <td>9.9</td>\n      <td>83</td>\n      <td>2</td>\n      <td>27</td>\n      <td>19</td>\n      <td>0</td>\n      <td>4</td>\n    </tr>\n    <tr>\n      <th>23</th>\n      <td>1996</td>\n      <td>14.9</td>\n      <td>20.9</td>\n      <td>8.2</td>\n      <td>511.34</td>\n      <td>9.1</td>\n      <td>94</td>\n      <td>2</td>\n      <td>10</td>\n      <td>10</td>\n      <td>0</td>\n      <td>1</td>\n    </tr>\n    <tr>\n      <th>24</th>\n      <td>1997</td>\n      <td>15.7</td>\n      <td>22.0</td>\n      <td>9.2</td>\n      <td>513.15</td>\n      <td>7.9</td>\n      <td>108</td>\n      <td>4</td>\n      <td>26</td>\n      <td>26</td>\n      <td>0</td>\n      <td>0</td>\n    </tr>\n    <tr>\n      <th>25</th>\n      <td>1998</td>\n      <td>14.8</td>\n      <td>21.7</td>\n      <td>8.2</td>\n      <td>430.33</td>\n      <td>8.9</td>\n      <td>73</td>\n      <td>1</td>\n      <td>22</td>\n      <td>15</td>\n      <td>0</td>\n      <td>1</td>\n    </tr>\n    <tr>\n      <th>26</th>\n      <td>1999</td>\n      <td>14.5</td>\n      <td>20.9</td>\n      <td>8.1</td>\n      <td>253.21</td>\n      <td>10.0</td>\n      <td>80</td>\n      <td>0</td>\n      <td>22</td>\n      <td>19</td>\n      <td>0</td>\n      <td>1</td>\n    </tr>\n    <tr>\n      <th>27</th>\n      <td>2000</td>\n      <td>14.3</td>\n      <td>20.8</td>\n      <td>7.7</td>\n      <td>393.93</td>\n      <td>9.0</td>\n      <td>92</td>\n      <td>1</td>\n      <td>13</td>\n      <td>13</td>\n      <td>0</td>\n      <td>0</td>\n    </tr>\n    <tr>\n      <th>28</th>\n      <td>2001</td>\n      <td>14.1</td>\n      <td>20.3</td>\n      <td>7.6</td>\n      <td>309.11</td>\n      <td>9.9</td>\n      <td>83</td>\n      <td>2</td>\n      <td>10</td>\n      <td>12</td>\n      <td>1</td>\n      <td>0</td>\n    </tr>\n    <tr>\n      <th>30</th>\n      <td>2003</td>\n      <td>15.0</td>\n      <td>21.0</td>\n      <td>8.6</td>\n      <td>424.67</td>\n      <td>9.5</td>\n      <td>90</td>\n      <td>2</td>\n      <td>14</td>\n      <td>11</td>\n      <td>0</td>\n      <td>0</td>\n    </tr>\n    <tr>\n      <th>31</th>\n      <td>2004</td>\n      <td>14.2</td>\n      <td>20.6</td>\n      <td>7.8</td>\n      <td>465.35</td>\n      <td>9.2</td>\n      <td>79</td>\n      <td>4</td>\n      <td>16</td>\n      <td>11</td>\n      <td>0</td>\n      <td>0</td>\n    </tr>\n    <tr>\n      <th>33</th>\n      <td>2006</td>\n      <td>15.3</td>\n      <td>22.6</td>\n      <td>9.0</td>\n      <td>413.99</td>\n      <td>10.0</td>\n      <td>90</td>\n      <td>4</td>\n      <td>15</td>\n      <td>11</td>\n      <td>0</td>\n      <td>0</td>\n    </tr>\n    <tr>\n      <th>34</th>\n      <td>2007</td>\n      <td>13.7</td>\n      <td>21.2</td>\n      <td>7.4</td>\n      <td>343.91</td>\n      <td>9.7</td>\n      <td>86</td>\n      <td>4</td>\n      <td>22</td>\n      <td>19</td>\n      <td>0</td>\n      <td>0</td>\n    </tr>\n    <tr>\n      <th>35</th>\n      <td>2008</td>\n      <td>14.3</td>\n      <td>21.3</td>\n      <td>7.8</td>\n      <td>484.90</td>\n      <td>10.0</td>\n      <td>108</td>\n      <td>9</td>\n      <td>14</td>\n      <td>12</td>\n      <td>0</td>\n      <td>2</td>\n    </tr>\n    <tr>\n      <th>36</th>\n      <td>2009</td>\n      <td>15.5</td>\n      <td>22.6</td>\n      <td>8.7</td>\n      <td>289.55</td>\n      <td>10.4</td>\n      <td>86</td>\n      <td>8</td>\n      <td>13</td>\n      <td>12</td>\n      <td>0</td>\n      <td>0</td>\n    </tr>\n    <tr>\n      <th>37</th>\n      <td>2010</td>\n      <td>14.6</td>\n      <td>20.6</td>\n      <td>8.4</td>\n      <td>424.17</td>\n      <td>10.1</td>\n      <td>117</td>\n      <td>11</td>\n      <td>14</td>\n      <td>17</td>\n      <td>0</td>\n      <td>2</td>\n    </tr>\n    <tr>\n      <th>38</th>\n      <td>2011</td>\n      <td>15.6</td>\n      <td>22.2</td>\n      <td>8.7</td>\n      <td>307.83</td>\n      <td>9.1</td>\n      <td>91</td>\n      <td>6</td>\n      <td>16</td>\n      <td>21</td>\n      <td>0</td>\n      <td>1</td>\n    </tr>\n    <tr>\n      <th>39</th>\n      <td>2012</td>\n      <td>15.1</td>\n      <td>21.6</td>\n      <td>8.1</td>\n      <td>212.31</td>\n      <td>10.6</td>\n      <td>82</td>\n      <td>0</td>\n      <td>12</td>\n      <td>15</td>\n      <td>0</td>\n      <td>0</td>\n    </tr>\n    <tr>\n      <th>40</th>\n      <td>2013</td>\n      <td>14.8</td>\n      <td>21.2</td>\n      <td>8.2</td>\n      <td>269.99</td>\n      <td>10.8</td>\n      <td>113</td>\n      <td>6</td>\n      <td>14</td>\n      <td>11</td>\n      <td>0</td>\n      <td>0</td>\n    </tr>\n    <tr>\n      <th>41</th>\n      <td>2014</td>\n      <td>15.8</td>\n      <td>22.4</td>\n      <td>9.6</td>\n      <td>420.62</td>\n      <td>10.9</td>\n      <td>104</td>\n      <td>5</td>\n      <td>14</td>\n      <td>12</td>\n      <td>0</td>\n      <td>1</td>\n    </tr>\n    <tr>\n      <th>42</th>\n      <td>2015</td>\n      <td>15.9</td>\n      <td>23.0</td>\n      <td>9.1</td>\n      <td>303.51</td>\n      <td>9.6</td>\n      <td>72</td>\n      <td>5</td>\n      <td>10</td>\n      <td>7</td>\n      <td>0</td>\n      <td>0</td>\n    </tr>\n    <tr>\n      <th>43</th>\n      <td>2016</td>\n      <td>15.6</td>\n      <td>21.9</td>\n      <td>9.0</td>\n      <td>496.54</td>\n      <td>9.9</td>\n      <td>100</td>\n      <td>4</td>\n      <td>4</td>\n      <td>14</td>\n      <td>0</td>\n      <td>1</td>\n    </tr>\n    <tr>\n      <th>44</th>\n      <td>2017</td>\n      <td>16.0</td>\n      <td>23.0</td>\n      <td>8.6</td>\n      <td>268.72</td>\n      <td>9.6</td>\n      <td>60</td>\n      <td>5</td>\n      <td>17</td>\n      <td>13</td>\n      <td>0</td>\n      <td>2</td>\n    </tr>\n    <tr>\n      <th>45</th>\n      <td>2018</td>\n      <td>15.2</td>\n      <td>21.3</td>\n      <td>9.0</td>\n      <td>509.48</td>\n      <td>9.8</td>\n      <td>108</td>\n      <td>5</td>\n      <td>16</td>\n      <td>19</td>\n      <td>0</td>\n      <td>2</td>\n    </tr>\n    <tr>\n      <th>46</th>\n      <td>2019</td>\n      <td>15.6</td>\n      <td>22.5</td>\n      <td>8.7</td>\n      <td>334.77</td>\n      <td>10.5</td>\n      <td>78</td>\n      <td>1</td>\n      <td>13</td>\n      <td>8</td>\n      <td>0</td>\n      <td>1</td>\n    </tr>\n    <tr>\n      <th>47</th>\n      <td>2020</td>\n      <td>15.6</td>\n      <td>22.2</td>\n      <td>9.2</td>\n      <td>422.14</td>\n      <td>8.9</td>\n      <td>94</td>\n      <td>3</td>\n      <td>21</td>\n      <td>28</td>\n      <td>0</td>\n      <td>2</td>\n    </tr>\n    <tr>\n      <th>48</th>\n      <td>2021</td>\n      <td>15.1</td>\n      <td>21.8</td>\n      <td>8.3</td>\n      <td>412.93</td>\n      <td>8.9</td>\n      <td>92</td>\n      <td>4</td>\n      <td>24</td>\n      <td>17</td>\n      <td>0</td>\n      <td>1</td>\n    </tr>\n    <tr>\n      <th>49</th>\n      <td>2022</td>\n      <td>16.6</td>\n      <td>23.3</td>\n      <td>9.7</td>\n      <td>389.60</td>\n      <td>8.9</td>\n      <td>99</td>\n      <td>1</td>\n      <td>18</td>\n      <td>15</td>\n      <td>0</td>\n      <td>0</td>\n    </tr>\n  </tbody>\n</table>\n</div>"
     },
     "metadata": {},
     "output_type": "display_data"
    }
   ],
   "source": [
    "#Generamos una lista con los índices que queremos borrar\n",
    "########INSERTAR CODIGO AQUI\n",
    "missing_data_rows = df[df == '-'].any(axis=1)\n",
    "\n",
    "row_indexes_of_missing_data = missing_data_rows[missing_data_rows].index.tolist()\n",
    "\n",
    "#Eliminamos de nuestro dataframe las filas contenidas en la lista anterior\n",
    "########INSERTAR CODIGO AQUI\n",
    "df_cleaned = df.drop(row_indexes_of_missing_data, axis=0, inplace=False)\n",
    "\n",
    "print(\"Mis datos limpios son:\\n\")\n",
    "display(df_cleaned)"
   ]
  },
  {
   "cell_type": "markdown",
   "metadata": {},
   "source": [
    "__Pregunta__: ¿Con lo que sabemos ahora, cambiarías tu respuesta sobre el número de dimensiones o el número de muestras útiles en nuestro dataset? Responde brevemente en la siguiente celda\n",
    "\n",
    "__A CONTINUACIÓN CELDA A RELLENAR POR EL ALUMNO__"
   ]
  },
  {
   "cell_type": "markdown",
   "metadata": {},
   "source": [
    "No, ya que la eliminación de filas con datos faltantes no afecta la cantidad de dimensiones por muestra ni la cantidad de muestras útiles en el conjunto de datos original."
   ]
  },
  {
   "cell_type": "markdown",
   "metadata": {},
   "source": [
    "* Ahora vamos a transformar los datos. Para ello vamos a renombrar las columnas para poner un nombre más inteligible, luego veremos en qué formato están los datos, y finalmente, si lo vemos conveniente, los transformaremos a formato numérico\n",
    "\n",
    "1. Vamos a convertir los nombres (headers) de nuestras columnas del dataframe. Primero hacemos una copia de nuestro dataframe (__funcion .copy()__), luego sustituimos los antiguos nombres de columna por los nuevos (usaremos el atributo df.columns y le asignaremos los nuevos nombres)"
   ]
  },
  {
   "cell_type": "code",
   "execution_count": 9,
   "metadata": {
    "ExecuteTime": {
     "end_time": "2023-11-12T18:17:35.140434Z",
     "start_time": "2023-11-12T18:17:34.957993200Z"
    }
   },
   "outputs": [
    {
     "name": "stdout",
     "output_type": "stream",
     "text": [
      "Comprobacion. Mi dataset tiene ahora estas columnas:\n"
     ]
    },
    {
     "data": {
      "text/plain": "    Año TempMedia TempMax Tempmin Precipitacion VelocidadViento DiasLluvia  \\\n0  1973      13.3    20.5     6.4        332.99             8.2         94   \n1  1974      13.3    20.2     6.7        320.02             8.5        107   \n2  1975      13.3    20.1     6.9        372.64             8.2        123   \n3  1976      13.3    20.1     7.0        530.60             7.3        125   \n4  1977      13.5    19.8     7.4        698.54             8.0        134   \n\n  DiasNieve DiasTormenta DiasNiebla DiasTornado DiasGranizo  \n0         5           22         18           0           0  \n1         0           27         27           0           3  \n2         2           26         15           0           2  \n3         2           38         20           0           1  \n4         8           18         42           0           6  ",
      "text/html": "<div>\n<style scoped>\n    .dataframe tbody tr th:only-of-type {\n        vertical-align: middle;\n    }\n\n    .dataframe tbody tr th {\n        vertical-align: top;\n    }\n\n    .dataframe thead th {\n        text-align: right;\n    }\n</style>\n<table border=\"1\" class=\"dataframe\">\n  <thead>\n    <tr style=\"text-align: right;\">\n      <th></th>\n      <th>Año</th>\n      <th>TempMedia</th>\n      <th>TempMax</th>\n      <th>Tempmin</th>\n      <th>Precipitacion</th>\n      <th>VelocidadViento</th>\n      <th>DiasLluvia</th>\n      <th>DiasNieve</th>\n      <th>DiasTormenta</th>\n      <th>DiasNiebla</th>\n      <th>DiasTornado</th>\n      <th>DiasGranizo</th>\n    </tr>\n  </thead>\n  <tbody>\n    <tr>\n      <th>0</th>\n      <td>1973</td>\n      <td>13.3</td>\n      <td>20.5</td>\n      <td>6.4</td>\n      <td>332.99</td>\n      <td>8.2</td>\n      <td>94</td>\n      <td>5</td>\n      <td>22</td>\n      <td>18</td>\n      <td>0</td>\n      <td>0</td>\n    </tr>\n    <tr>\n      <th>1</th>\n      <td>1974</td>\n      <td>13.3</td>\n      <td>20.2</td>\n      <td>6.7</td>\n      <td>320.02</td>\n      <td>8.5</td>\n      <td>107</td>\n      <td>0</td>\n      <td>27</td>\n      <td>27</td>\n      <td>0</td>\n      <td>3</td>\n    </tr>\n    <tr>\n      <th>2</th>\n      <td>1975</td>\n      <td>13.3</td>\n      <td>20.1</td>\n      <td>6.9</td>\n      <td>372.64</td>\n      <td>8.2</td>\n      <td>123</td>\n      <td>2</td>\n      <td>26</td>\n      <td>15</td>\n      <td>0</td>\n      <td>2</td>\n    </tr>\n    <tr>\n      <th>3</th>\n      <td>1976</td>\n      <td>13.3</td>\n      <td>20.1</td>\n      <td>7.0</td>\n      <td>530.60</td>\n      <td>7.3</td>\n      <td>125</td>\n      <td>2</td>\n      <td>38</td>\n      <td>20</td>\n      <td>0</td>\n      <td>1</td>\n    </tr>\n    <tr>\n      <th>4</th>\n      <td>1977</td>\n      <td>13.5</td>\n      <td>19.8</td>\n      <td>7.4</td>\n      <td>698.54</td>\n      <td>8.0</td>\n      <td>134</td>\n      <td>8</td>\n      <td>18</td>\n      <td>42</td>\n      <td>0</td>\n      <td>6</td>\n    </tr>\n  </tbody>\n</table>\n</div>"
     },
     "execution_count": 9,
     "metadata": {},
     "output_type": "execute_result"
    }
   ],
   "source": [
    "#Definimos los nuevos nombres de columnas\n",
    "new_headers = ['Año', 'TempMedia', 'TempMax', 'Tempmin', 'Precipitacion',\n",
    "               'VelocidadViento', 'DiasLluvia', 'DiasNieve', 'DiasTormenta',\n",
    "               'DiasNiebla', 'DiasTornado', 'DiasGranizo']\n",
    "\n",
    "#Clonamos el dataframe de datos limpiados y lo guardamos en una nueva variable\n",
    "########INSERTAR CODIGO AQUI\n",
    "df_transformed = df_cleaned.copy()\n",
    "\n",
    "#Asignamos al atributo .columns de nuestro nuevo dataframe los nombres que hemos definido\n",
    "########INSERTAR CODIGO AQUI\n",
    "df_transformed.columns = new_headers\n",
    "\n",
    "print(\"Comprobacion. Mi dataset tiene ahora estas columnas:\")\n",
    "df_transformed.head()"
   ]
  },
  {
   "cell_type": "markdown",
   "metadata": {},
   "source": [
    "2. Vemos la información de nuestro dataframe. ¿Están nuestros datos ya en formato numérico? Responde brevemente y de forma razonada en la celda habilitada para ello"
   ]
  },
  {
   "cell_type": "code",
   "execution_count": 10,
   "metadata": {
    "ExecuteTime": {
     "end_time": "2023-11-12T18:17:36.923298400Z",
     "start_time": "2023-11-12T18:17:36.837977200Z"
    }
   },
   "outputs": [
    {
     "name": "stdout",
     "output_type": "stream",
     "text": [
      "<class 'pandas.core.frame.DataFrame'>\n",
      "Index: 48 entries, 0 to 49\n",
      "Data columns (total 12 columns):\n",
      " #   Column  Non-Null Count  Dtype \n",
      "---  ------  --------------  ----- \n",
      " 0   Año     48 non-null     int64 \n",
      " 1   T       48 non-null     object\n",
      " 2   TM      48 non-null     object\n",
      " 3   Tm      48 non-null     object\n",
      " 4   PP      48 non-null     object\n",
      " 5   V       48 non-null     object\n",
      " 6   RA      48 non-null     object\n",
      " 7   SN      48 non-null     object\n",
      " 8   TS      48 non-null     object\n",
      " 9   FG      48 non-null     object\n",
      " 10  TN      48 non-null     object\n",
      " 11  GR      48 non-null     object\n",
      "dtypes: int64(1), object(11)\n",
      "memory usage: 4.9+ KB\n"
     ]
    }
   ],
   "source": [
    "df_cleaned.info()"
   ]
  },
  {
   "cell_type": "markdown",
   "metadata": {},
   "source": [
    "__A CONTINUACIÓN CELDA A RELLENAR POR EL ALUMNO__"
   ]
  },
  {
   "cell_type": "markdown",
   "metadata": {},
   "source": [
    "No, nuestros datos no están en formato numérico. Con la ayuda de `.info`, se puede observar que los datos están en formato de texto (strings-object). También se puede saber por la presencia de caracteres como '-', lo que indica que se necesita una transformación para convertirlos en formato numérico."
   ]
  },
  {
   "cell_type": "markdown",
   "metadata": {},
   "source": [
    "3. Transformamos las columnas a formato numérico. Para ello iremos columna a columna (sólo aquellas que creamos convenientes) y le iremos cambiando el tipo de datos. Finalmente, comprueba de alguna forma que la transformación se ha producido\n",
    "\n",
    "__TIP 1:__ Se puede cambiar el tipo de todos los datos de una columna de un dataframe usando __df['nombre_columna'] = df['nombre_columna'].astype(tipo_salida)__\n",
    "\n",
    "__TIP 2:__ Podemos ir una a una por todas las columnas (1 línea de código por columna cambiada), o bien podemos hacer un bucle _for_, ya que tenemos todos los nombres de las columnas en una variable. Recuerda si haces esto, que igual nos interesa usar rangos dentro la lista de nombres [valor_inicial:valor_final:paso]"
   ]
  },
  {
   "cell_type": "code",
   "execution_count": 11,
   "metadata": {
    "ExecuteTime": {
     "end_time": "2023-11-12T18:17:40.611506100Z",
     "start_time": "2023-11-12T18:17:40.501365100Z"
    }
   },
   "outputs": [
    {
     "name": "stdout",
     "output_type": "stream",
     "text": [
      "<class 'pandas.core.frame.DataFrame'>\n",
      "Index: 48 entries, 0 to 49\n",
      "Data columns (total 12 columns):\n",
      " #   Column           Non-Null Count  Dtype  \n",
      "---  ------           --------------  -----  \n",
      " 0   Año              48 non-null     float64\n",
      " 1   TempMedia        48 non-null     float64\n",
      " 2   TempMax          48 non-null     float64\n",
      " 3   Tempmin          48 non-null     float64\n",
      " 4   Precipitacion    48 non-null     float64\n",
      " 5   VelocidadViento  48 non-null     float64\n",
      " 6   DiasLluvia       48 non-null     float64\n",
      " 7   DiasNieve        48 non-null     float64\n",
      " 8   DiasTormenta     48 non-null     float64\n",
      " 9   DiasNiebla       48 non-null     float64\n",
      " 10  DiasTornado      48 non-null     float64\n",
      " 11  DiasGranizo      48 non-null     float64\n",
      "dtypes: float64(12)\n",
      "memory usage: 4.9 KB\n"
     ]
    }
   ],
   "source": [
    "#Convertimos los datos (elige: columna a columna o mediante bucle for)\n",
    "########INSERTAR CODIGO AQUI (son múltiples líneas de código)\n",
    "columns_to_convert = ['Año', 'TempMedia', 'TempMax', 'Tempmin', 'Precipitacion',\n",
    "                      'VelocidadViento', 'DiasLluvia', 'DiasNieve', 'DiasTormenta',\n",
    "                      'DiasNiebla', 'DiasTornado', 'DiasGranizo']\n",
    "for column in columns_to_convert:\n",
    "    df_transformed[column] = df_transformed[column].replace(',', '.').astype(\n",
    "        float)  # se usa replace para poder remplazar la \",\" por \".\" en el caso de no saber que los datos tiene \".\" \n",
    "\n",
    "#Comprobamos si la transformación ha tenido lugar\n",
    "df_transformed.info()"
   ]
  },
  {
   "cell_type": "markdown",
   "metadata": {},
   "source": [
    "__Pregunta__: ¿Se ha producido la transformación? Explícalo en una línea en la siguiente celda\n",
    "\n",
    "__A CONTINUACIÓN CELDA A RELLENAR POR EL ALUMNO__"
   ]
  },
  {
   "cell_type": "markdown",
   "metadata": {},
   "source": [
    "Sí, se ha producido la transformación de los datos, cambiando las columnas del DataFrame de texto a formato numérico que en este caso es de tipo float64."
   ]
  },
  {
   "cell_type": "markdown",
   "metadata": {},
   "source": [
    "#### 3 - Análisis exploratorio e identificación de outliers (visual y con ML)\n",
    "\n",
    "* Vamos a empezar visualizando los datos más importantes: Temperatura Media y Precipitaciones anuales. En ambos casos, el eje x serán los años\n",
    "\n",
    "1. Convierte las columnas Año, TempMedia y Precipitacion de nuestro dataframe cada una a un array de numpy\n",
    "\n",
    "__TIP__: Usa la función de pandas df['columna'].to_numpy()"
   ]
  },
  {
   "cell_type": "code",
   "execution_count": 12,
   "metadata": {
    "ExecuteTime": {
     "end_time": "2023-11-12T18:17:43.195674800Z",
     "start_time": "2023-11-12T18:17:43.100962100Z"
    }
   },
   "outputs": [
    {
     "name": "stdout",
     "output_type": "stream",
     "text": [
      "Primeros cinco años: [1973 1974 1975 1976 1977]\n",
      "Primeras cinco Temp. Medias: [13.3 13.3 13.3 13.3 13.5]\n",
      "Primeras cinco Precipitaciones anuales: [332.99 320.02 372.64 530.6  698.54]\n"
     ]
    }
   ],
   "source": [
    "#Convertimos cada columna a un array de numpy\n",
    "########INSERTAR CODIGO AQUI\n",
    "year_array = df_transformed['Año'].to_numpy().astype(int)\n",
    "temp_array = df_transformed['TempMedia'].to_numpy()\n",
    "rain_array = df_transformed['Precipitacion'].to_numpy()\n",
    "\n",
    "#Comprobamos los resultados\n",
    "print(f\"Primeros cinco años: {year_array[:5]}\")\n",
    "print(f\"Primeras cinco Temp. Medias: {temp_array[:5]}\")\n",
    "print(f\"Primeras cinco Precipitaciones anuales: {rain_array[:5]}\")"
   ]
  },
  {
   "cell_type": "markdown",
   "metadata": {},
   "source": [
    "2. Análisis exploratorio de datos (EDA). Vamos a visualizar en un mismo gráfico la evolución de la temperatura media y la precipitación anual. __Importante: la precipitación actualmente está en mm, pero por comodidad, la querremos visualizar como dm, es decir, dividiremos el array/100__\n",
    "Para visualiar usaremos el plot de matplotlib, y haremos que la temperatura se marque como una línea continua roja, mientras que la precipitación se marcará como una línea azul, discontinua (a rayas intermintentes) y que cada punto anual se marque con un círculo. Además, a la gráfica le pondremos como título, el título de la página web (lo tenemos en una variable), pondremos un grid y pondremos una leyenda para saber qué es cada curva \n",
    "\n",
    "__TIP 1:__ En la prácitca de introducción a matplotlib se vió cómo formatear las curvas en un plot de matplotlib (colores, puntos, tipo de línea)\n",
    "\n",
    "__TIP 2:__ Para que la leyenda tenga sentido, habrá que utilizar la etiqueta __label='nombre_de_curva'__ en el plot"
   ]
  },
  {
   "cell_type": "code",
   "execution_count": 13,
   "metadata": {
    "ExecuteTime": {
     "end_time": "2023-11-12T18:17:44.009241800Z",
     "start_time": "2023-11-12T18:17:43.560624500Z"
    }
   },
   "outputs": [
    {
     "data": {
      "text/plain": "<matplotlib.legend.Legend at 0x20236c8a7e0>"
     },
     "execution_count": 13,
     "metadata": {},
     "output_type": "execute_result"
    },
    {
     "data": {
      "text/plain": "<Figure size 640x480 with 1 Axes>",
      "image/png": "[encoded data removed]"
     },
     "metadata": {},
     "output_type": "display_data"
    }
   ],
   "source": [
    "########INSERTAR CODIGO AQUI\n",
    "plt.plot(year_array, temp_array, 'r-', label='Temperatura Media')\n",
    "plt.plot(year_array, rain_array / 100, 'b--o', label='Precipitación Anual')\n",
    "plt.title(titulo)\n",
    "plt.grid()\n",
    "plt.legend()\n"
   ]
  },
  {
   "cell_type": "markdown",
   "metadata": {},
   "source": [
    "__Pregunta:__ ¿Serías capaz de identificar outliers en la serie anterior, combinando precipitación y temperatura? Da tu respuesta en un par de líneas en la siguiente celda.\n",
    "\n",
    "__A CONTINUACIÓN CELDA A RELLENAR POR EL ALUMNO__"
   ]
  },
  {
   "cell_type": "markdown",
   "metadata": {},
   "source": [
    "No puedo identificar outliers, supondría que podría ser los datos que se alejan de la tendencia general del gráfico. "
   ]
  },
  {
   "cell_type": "markdown",
   "metadata": {},
   "source": [
    "* Vamos a hacer ahora un análisis de outliers tanto basado en el análisis visual de los datos, como en el análisis con Machine Learning\n",
    "\n",
    "1. Vamos a visualizar los datos conjuntos de Temperatura (eje x) y Precipitación (eje y), usando el scatterplot de matplotlib. Le pondremos título a la gráfica (el título de la web), etiqueta de eje x, etiqueta de eje y, y grid"
   ]
  },
  {
   "cell_type": "code",
   "execution_count": 14,
   "metadata": {
    "ExecuteTime": {
     "end_time": "2023-11-12T18:17:44.725774700Z",
     "start_time": "2023-11-12T18:17:44.418835100Z"
    }
   },
   "outputs": [
    {
     "data": {
      "text/plain": "<Figure size 640x480 with 1 Axes>",
      "image/png": "[encoded data removed]"
     },
     "metadata": {},
     "output_type": "display_data"
    }
   ],
   "source": [
    "########INSERTAR CODIGO AQUI\n",
    "plt.scatter(temp_array, rain_array / 100)\n",
    "plt.title(titulo)\n",
    "plt.xlabel('Temperatura Media')\n",
    "plt.ylabel('Precipitacion Total')\n",
    "plt.grid()"
   ]
  },
  {
   "cell_type": "markdown",
   "metadata": {},
   "source": [
    "__Pregunta:__ ¿Viendo la gráfica de puntos, serías ahora capaz de identificar mejor los outliers? Señala (alude a sus valores para referirte a ellos) los 5 puntos que más te parezcan outliers y explica en un par de líneas por qué crees que lo son.\n",
    "\n",
    "__A CONTINUACIÓN CELDA A RELLENAR POR EL ALUMNO__"
   ]
  },
  {
   "cell_type": "markdown",
   "metadata": {},
   "source": [
    "Los puntos que parecen outliers son __**(12.5, 5) (13.4, 6) (13.5, 7) (14.7,7.8) (16.7, 3.9)**__ porque estos 5 puntos están más alejados del grupo de puntos mayoritarios que están dentro de los puntos __**(13.0,6) y (16.0,6)**__."
   ]
  },
  {
   "cell_type": "markdown",
   "metadata": {},
   "source": [
    "2. Vamos a aplicar un sistema de Machine Learning de clustering, para ver si estadísticamente considera los mismos outliers que hemos considerado nosotros, teniendo en cuenta igualmente la temperatura y la precipitación anual. Tendremos que normalizar los datos antes.\n",
    "\n",
    "__a.__ Creamos la matriz (array 2d de numpy) de datos a partir del dataframe de datos transformados y la normalizamos utilizando el objeto StandardScaler del paquete preprocessing de sklearn\n",
    "\n",
    "__TIP__: Puedes normalizar los datos usando la función __fit_transform(datos)__"
   ]
  },
  {
   "cell_type": "code",
   "execution_count": 15,
   "metadata": {
    "ExecuteTime": {
     "end_time": "2023-11-12T18:17:46.028008400Z",
     "start_time": "2023-11-12T18:17:45.962317800Z"
    }
   },
   "outputs": [
    {
     "name": "stdout",
     "output_type": "stream",
     "text": [
      "El tamaño de nuestros datos es: (48, 2)\n"
     ]
    }
   ],
   "source": [
    "#Generamos nuestra matriz de datos de 47 muestras y 2 dimensiones\n",
    "data = df_transformed[['TempMedia', 'Precipitacion']].to_numpy()\n",
    "########INSERTAR CODIGO AQUI\n",
    "print(f\"El tamaño de nuestros datos es: {data.shape}\")\n",
    "\n",
    "#Importamos la clase StandardScaler del paquete preprocessing de sklearn\n",
    "########INSERTAR CODIGO AQUI\n",
    "#from None import None lo coloqué donde los demas imports\n",
    "\n",
    "#Generamos una variable de tipo StandardScaler y con ella normalizamos los datos\n",
    "########INSERTAR CODIGO AQUI\n",
    "standard_scaler = StandardScaler()\n",
    "data_scaled = standard_scaler.fit_transform(data)\n"
   ]
  },
  {
   "cell_type": "markdown",
   "metadata": {},
   "source": [
    "__b.__ Importamos de la libreria sklearn, del paquete cluster, la clase AgglomerativeClustering. Creamos un objeto de tipo AgglomerativeClustering que tenga como hiperparámetros (parámetros de inicialización): n_culsters = 6, affinity = 'euclidean', linkage = 'single'"
   ]
  },
  {
   "cell_type": "code",
   "execution_count": 16,
   "metadata": {
    "ExecuteTime": {
     "end_time": "2023-11-12T18:17:47.623478600Z",
     "start_time": "2023-11-12T18:17:46.664902900Z"
    }
   },
   "outputs": [],
   "source": [
    "#Importamos la clase AgglomerativeClustering\n",
    "########INSERTAR CODIGO AQUI\n",
    "from sklearn.cluster import AgglomerativeClustering\n",
    "\n",
    "#Instanciamos un objeto de tipo AgglomerativeClustering con 3 hiperparámetros\n",
    "########INSERTAR CODIGO AQUI\n",
    "ag_clustering_model = AgglomerativeClustering(n_clusters=6, metric='euclidean',\n",
    "                                              linkage='single')  #affinity dice que está obsoleto.\n"
   ]
  },
  {
   "cell_type": "markdown",
   "metadata": {},
   "source": [
    "__c.__ Entrenamos el modelo con nuestros datos y predecimos una etiqueta para cada uno de ellos\n",
    "\n",
    "__TIP:__ Puedes hacer las dos operaciones en una si usas __.fit_predict()__"
   ]
  },
  {
   "cell_type": "code",
   "execution_count": 17,
   "metadata": {
    "ExecuteTime": {
     "end_time": "2023-11-12T18:17:47.805273700Z",
     "start_time": "2023-11-12T18:17:47.623478600Z"
    }
   },
   "outputs": [],
   "source": [
    "#Entrenamos nuestro modelo de clustering y predecimos para nuestros datos escalados\n",
    "predicted_labels_from_clustering = ag_clustering_model.fit_predict(data_scaled)"
   ]
  },
  {
   "cell_type": "markdown",
   "metadata": {},
   "source": [
    "__d.__ Hacemos el scatterplot de matplotlib de los datos, y en este caso le ponemos color según las etiquetas predichas y el mapa de colores cmap='viridis'.Luego generamos una barra de colores (__colorbar()__) "
   ]
  },
  {
   "cell_type": "code",
   "execution_count": 18,
   "metadata": {
    "ExecuteTime": {
     "end_time": "2023-11-12T18:17:48.344125800Z",
     "start_time": "2023-11-12T18:17:48.034767300Z"
    }
   },
   "outputs": [
    {
     "data": {
      "text/plain": "<Figure size 640x480 with 2 Axes>",
      "image/png": "[encoded data removed]"
     },
     "metadata": {},
     "output_type": "display_data"
    }
   ],
   "source": [
    "########INSERTAR CODIGO AQUI\n",
    "plt.scatter(data[:, 0], data[:, 1], c=predicted_labels_from_clustering, cmap='viridis')\n",
    "plt.colorbar()\n",
    "plt.title(titulo)\n",
    "plt.xlabel('Temperatura Media')\n",
    "plt.ylabel('Precipitación Total')\n",
    "plt.grid()"
   ]
  },
  {
   "cell_type": "markdown",
   "metadata": {},
   "source": [
    "__Pregunta:__ ¿Viendo la gráfica de puntos generada y la distribución de los clusters (distintos colores), crees que el sistema ha agrupado las muestras de la misma forma que lo habrías hecho tú? ¿Crees que el sistema ha identificado los mismos outliers que tú habías identificado antes? Responde brevemente a estas preguntas en la siguiente celda.\n",
    "\n",
    "__A CONTINUACIÓN CELDA A RELLENAR POR EL ALUMNO__"
   ]
  },
  {
   "cell_type": "markdown",
   "metadata": {},
   "source": [
    "Viendo la gráfica el sistema eligió los mismos puntos que había elegido. "
   ]
  },
  {
   "cell_type": "markdown",
   "metadata": {},
   "source": [
    "#### 4 - Generación de un pequeño sistema predictivo\n",
    "\n",
    "Para finalizar esta actividad, vamos a intentar generar un pequeño sistema predictivo. Hemos de ser conscientes de que la cantidad de datos en nuestro dataset es extremadamente pequeña (menos de 50 muestras), y, por tanto, no podremos conseguir buenos resultados.\n",
    "\n",
    "En concreto vamos a intentar hacer un clasificador binario, que dados los datos meteorológicos de un año, va a intentar predecir si ese día ha habido múltiples días de granizo o no. Al ser un clasificador binario, sabemos que si la tasa de acierto es cercana al 50%, no habremos conseguido nada (misma probabilidad de acertar que de fallar). En cambio, cualquier tasa de acierto que esté por encima ya será un éxito.\n",
    "\n",
    "Planteamos este ejercicio en dos pasos:\n",
    "\n",
    "__Paso 1.__ Generación de un clasificador directamente sobre los datos"
   ]
  },
  {
   "cell_type": "markdown",
   "metadata": {},
   "source": [
    "* Generamos un nuevo dataframe que sea copia del dataframe de datos transformados (usas __.copy()__). A continuación visualizamos el histograma de días con granizo para determinar en promedio qué deberíamos considerar un _año con poco granizo_ frente a un _año con mucho granizo_"
   ]
  },
  {
   "cell_type": "code",
   "execution_count": 19,
   "metadata": {
    "ExecuteTime": {
     "end_time": "2023-11-12T18:17:52.255114700Z",
     "start_time": "2023-11-12T18:17:52.032004200Z"
    }
   },
   "outputs": [
    {
     "data": {
      "text/plain": "<Figure size 640x480 with 1 Axes>",
      "image/png": "[encoded data removed]"
     },
     "metadata": {},
     "output_type": "display_data"
    }
   ],
   "source": [
    "#Generamos un dataframe copia del anterior\n",
    "########INSERTAR CODIGO AQUI\n",
    "df_ml = df_transformed.copy()\n",
    "\n",
    "#mostramos el histograma de días de granizo\n",
    "plt.hist(df_ml['DiasGranizo'])\n",
    "plt.xlabel('Dias de granizo en un año')\n",
    "plt.ylabel('Numero de muestras')\n",
    "plt.grid()"
   ]
  },
  {
   "cell_type": "markdown",
   "metadata": {},
   "source": [
    "* A la vista de los resultados del histograma, podríamos decir que hay una separación entre los años que hay 0 o 1 día de granizo, y los años que tienen más de un día de granizo. Por lo tanto, generamos nuestra columna objetivo, que tendrá dos posibles valores de clase:\n",
    "\n",
    "0- _Año con poco granizo_. Si en ese año ha habido 1 o menos días de granizo\n",
    "\n",
    "1- _Año con mucho granizo_. Si en ese año ha habido 2 o más días de granizo"
   ]
  },
  {
   "cell_type": "code",
   "execution_count": 20,
   "metadata": {
    "ExecuteTime": {
     "end_time": "2023-11-12T18:17:54.619362200Z",
     "start_time": "2023-11-12T18:17:54.516206900Z"
    }
   },
   "outputs": [
    {
     "data": {
      "text/plain": "0     0\n1     1\n2     1\n3     0\n4     1\n5     0\n6     1\n7     0\n8     1\n9     0\n10    0\n11    1\n12    1\n13    0\n14    0\n15    0\n16    1\n17    1\n18    1\n19    1\n20    1\n21    0\n22    1\n23    0\n24    0\n25    0\n26    0\n27    0\n28    0\n30    0\n31    0\n33    0\n34    0\n35    1\n36    0\n37    1\n38    0\n39    0\n40    0\n41    0\n42    0\n43    0\n44    1\n45    1\n46    0\n47    1\n48    0\n49    0\nName: DiasGranizo, dtype: int32"
     },
     "metadata": {},
     "output_type": "display_data"
    }
   ],
   "source": [
    "#Generamos una Serie de tipo binario según el criterio de antes para días de granizo\n",
    "listado_binario_granizo = (df_ml['DiasGranizo'] > 1).astype(int)\n",
    "display(listado_binario_granizo)"
   ]
  },
  {
   "cell_type": "code",
   "execution_count": 21,
   "metadata": {
    "ExecuteTime": {
     "end_time": "2023-11-12T18:17:55.593257600Z",
     "start_time": "2023-11-12T18:17:55.458966800Z"
    }
   },
   "outputs": [
    {
     "data": {
      "text/plain": "       Año  TempMedia  TempMax  Tempmin  Precipitacion  VelocidadViento  \\\n15  1988.0       14.6     21.2      7.7         468.58              7.2   \n8   1981.0       14.3     21.4      7.5         345.93              9.1   \n47  2020.0       15.6     22.2      9.2         422.14              8.9   \n38  2011.0       15.6     22.2      8.7         307.83              9.1   \n11  1984.0       12.6     19.5      6.1         501.15             10.2   \n\n    DiasLluvia  DiasNieve  DiasTormenta  DiasNiebla  DiasTornado  DiasGranizo  \\\n15       101.0        0.0          35.0        18.0          0.0          1.0   \n8         98.0        6.0          23.0         9.0          0.0          2.0   \n47        94.0        3.0          21.0        28.0          0.0          2.0   \n38        91.0        6.0          16.0        21.0          0.0          1.0   \n11       109.0        5.0          12.0        23.0          0.0          3.0   \n\n    Año_granizo  \n15            0  \n8             1  \n47            1  \n38            0  \n11            1  ",
      "text/html": "<div>\n<style scoped>\n    .dataframe tbody tr th:only-of-type {\n        vertical-align: middle;\n    }\n\n    .dataframe tbody tr th {\n        vertical-align: top;\n    }\n\n    .dataframe thead th {\n        text-align: right;\n    }\n</style>\n<table border=\"1\" class=\"dataframe\">\n  <thead>\n    <tr style=\"text-align: right;\">\n      <th></th>\n      <th>Año</th>\n      <th>TempMedia</th>\n      <th>TempMax</th>\n      <th>Tempmin</th>\n      <th>Precipitacion</th>\n      <th>VelocidadViento</th>\n      <th>DiasLluvia</th>\n      <th>DiasNieve</th>\n      <th>DiasTormenta</th>\n      <th>DiasNiebla</th>\n      <th>DiasTornado</th>\n      <th>DiasGranizo</th>\n      <th>Año_granizo</th>\n    </tr>\n  </thead>\n  <tbody>\n    <tr>\n      <th>15</th>\n      <td>1988.0</td>\n      <td>14.6</td>\n      <td>21.2</td>\n      <td>7.7</td>\n      <td>468.58</td>\n      <td>7.2</td>\n      <td>101.0</td>\n      <td>0.0</td>\n      <td>35.0</td>\n      <td>18.0</td>\n      <td>0.0</td>\n      <td>1.0</td>\n      <td>0</td>\n    </tr>\n    <tr>\n      <th>8</th>\n      <td>1981.0</td>\n      <td>14.3</td>\n      <td>21.4</td>\n      <td>7.5</td>\n      <td>345.93</td>\n      <td>9.1</td>\n      <td>98.0</td>\n      <td>6.0</td>\n      <td>23.0</td>\n      <td>9.0</td>\n      <td>0.0</td>\n      <td>2.0</td>\n      <td>1</td>\n    </tr>\n    <tr>\n      <th>47</th>\n      <td>2020.0</td>\n      <td>15.6</td>\n      <td>22.2</td>\n      <td>9.2</td>\n      <td>422.14</td>\n      <td>8.9</td>\n      <td>94.0</td>\n      <td>3.0</td>\n      <td>21.0</td>\n      <td>28.0</td>\n      <td>0.0</td>\n      <td>2.0</td>\n      <td>1</td>\n    </tr>\n    <tr>\n      <th>38</th>\n      <td>2011.0</td>\n      <td>15.6</td>\n      <td>22.2</td>\n      <td>8.7</td>\n      <td>307.83</td>\n      <td>9.1</td>\n      <td>91.0</td>\n      <td>6.0</td>\n      <td>16.0</td>\n      <td>21.0</td>\n      <td>0.0</td>\n      <td>1.0</td>\n      <td>0</td>\n    </tr>\n    <tr>\n      <th>11</th>\n      <td>1984.0</td>\n      <td>12.6</td>\n      <td>19.5</td>\n      <td>6.1</td>\n      <td>501.15</td>\n      <td>10.2</td>\n      <td>109.0</td>\n      <td>5.0</td>\n      <td>12.0</td>\n      <td>23.0</td>\n      <td>0.0</td>\n      <td>3.0</td>\n      <td>1</td>\n    </tr>\n  </tbody>\n</table>\n</div>"
     },
     "metadata": {},
     "output_type": "display_data"
    }
   ],
   "source": [
    "#Añadimos una nueva columna a nuestro dataframe con ese listado\n",
    "########INSERTAR CODIGO AQUI\n",
    "df_ml['Año_granizo'] = listado_binario_granizo\n",
    "display(df_ml.sample(5))"
   ]
  },
  {
   "cell_type": "markdown",
   "metadata": {},
   "source": [
    "* Generamos nuestra matriz (array 2d de numpy) de muestras X, con todos los datos excepto el año (en realidad se trata como un índice) y excepto las columnas referentes a granizo (es lo que queremos predecir). A continuación generamos nuestro vector y (array de numpy) a partir de la columna 'Año_granizo'"
   ]
  },
  {
   "cell_type": "code",
   "execution_count": 22,
   "metadata": {
    "ExecuteTime": {
     "end_time": "2023-11-12T18:17:57.518986600Z",
     "start_time": "2023-11-12T18:17:57.431666300Z"
    }
   },
   "outputs": [
    {
     "name": "stdout",
     "output_type": "stream",
     "text": [
      "Tamaño de datos X: (48, 9)\n",
      "Tamaño de etiquetas y: (48,)\n"
     ]
    }
   ],
   "source": [
    "#Generamos los datos X\n",
    "X = df_ml[['TempMedia', 'TempMax', 'Tempmin',\n",
    "           'VelocidadViento', 'DiasLluvia', 'DiasNieve', 'DiasTormenta',\n",
    "           'DiasNiebla', 'DiasTornado']].to_numpy()\n",
    "\n",
    "#Generamos los targets y\n",
    "########INSERTAR CODIGO AQUI\n",
    "y = df_ml['Año_granizo'].to_numpy()\n",
    "\n",
    "print(f\"Tamaño de datos X: {X.shape}\")\n",
    "print(f\"Tamaño de etiquetas y: {y.shape}\")"
   ]
  },
  {
   "cell_type": "markdown",
   "metadata": {},
   "source": [
    "* Segmentamos nuestro dataset en dos, datos de entrenamiento y datos de test. Para ello utilizamos la función __train_test_split__ de sklearn (del paquete model_selection). Dados los pocos datos que tenemos, hemos decidido dividir en 70% datos para entrenamiento y 30% para test. En la función train_test_split usaremos los siguientes parámetros de función: test_size = 0.30 y random_state = 22"
   ]
  },
  {
   "cell_type": "code",
   "execution_count": 23,
   "metadata": {
    "ExecuteTime": {
     "end_time": "2023-11-12T18:18:01.291917800Z",
     "start_time": "2023-11-12T18:18:01.272917600Z"
    }
   },
   "outputs": [
    {
     "name": "stdout",
     "output_type": "stream",
     "text": [
      "Tamaño dataset entrenamiento: (33, 9)\n",
      "Tamaño dataset test: (15, 9)\n"
     ]
    }
   ],
   "source": [
    "#Importamos la funcion train_test_split del paquete model_selection de sklearn\n",
    "########INSERTAR CODIGO AQUI\n",
    "from sklearn.model_selection import train_test_split\n",
    "\n",
    "#Hacemos la segmentación de datos considerando 30% de datos para test y random_state = 22\n",
    "########INSERTAR CODIGO AQUI\n",
    "X_train, X_test, y_train, y_test = train_test_split(X, y, test_size=0.30, random_state=22)\n",
    "\n",
    "print(f\"Tamaño dataset entrenamiento: {X_train.shape}\")\n",
    "print(f\"Tamaño dataset test: {X_test.shape}\")"
   ]
  },
  {
   "cell_type": "markdown",
   "metadata": {},
   "source": [
    "* Generamos un clasificador de tipo DecisionTreeClassifier del paquete tree de sklearn sin hiperparámetros, luego entrenamos con nuestros datos de entrenamiento y hacemos predicciones sobre nuestros datos de test"
   ]
  },
  {
   "cell_type": "code",
   "execution_count": 24,
   "metadata": {
    "ExecuteTime": {
     "end_time": "2023-11-12T18:18:03.056290900Z",
     "start_time": "2023-11-12T18:18:02.951000900Z"
    }
   },
   "outputs": [],
   "source": [
    "#Importamos la clase DecisionTreeClassifier del paquete tree de sklearn\n",
    "########INSERTAR CODIGO AQUI\n",
    "from sklearn.tree import DecisionTreeClassifier\n",
    "\n",
    "#Generamos una instancia de DecisionTreeClassifier\n",
    "########INSERTAR CODIGO AQUI\n",
    "classifier_tree = DecisionTreeClassifier()\n",
    "\n",
    "#Entrenamos sobre nuestras muestras de entrenamiento y nuestras etiquetas de entrenamiento\n",
    "########INSERTAR CODIGO AQUI\n",
    "classifier_tree.fit(X_train, y_train)\n",
    "\n",
    "#Hacemos una predicción de etiquetas sobre nuestros datos de test\n",
    "########INSERTAR CODIGO AQUI\n",
    "y_predict = classifier_tree.predict(X_test)"
   ]
  },
  {
   "cell_type": "markdown",
   "metadata": {},
   "source": [
    "* Obtenemos métricas y la matriz de confusión de los resultados obtenidos"
   ]
  },
  {
   "cell_type": "code",
   "execution_count": 25,
   "metadata": {
    "ExecuteTime": {
     "end_time": "2023-11-12T18:18:05.024386900Z",
     "start_time": "2023-11-12T18:18:04.874680200Z"
    }
   },
   "outputs": [
    {
     "name": "stdout",
     "output_type": "stream",
     "text": [
      "Ratio de acierto: 0.4\n",
      "Matriz de confusion:\n",
      " [[5 4]\n",
      " [5 1]]\n"
     ]
    }
   ],
   "source": [
    "from sklearn.metrics import confusion_matrix, accuracy_score\n",
    "\n",
    "cm = confusion_matrix(y_test, y_predict)\n",
    "accuracy = accuracy_score(y_test, y_predict)\n",
    "print(f'Ratio de acierto: {accuracy}')\n",
    "print(f'Matriz de confusion:\\n {cm}')"
   ]
  },
  {
   "cell_type": "markdown",
   "metadata": {},
   "source": [
    "__Pregunta:__ ¿Podrías explicar los resultados obtenidos? ¿Sabiendo que teníamos pocas muestras, consideras que son buenos resultados? Responde en la siguiente celda\n",
    "\n",
    "__A CONTINUACIÓN CELDA A RELLENAR POR EL ALUMNO__"
   ]
  },
  {
   "cell_type": "markdown",
   "metadata": {},
   "source": [
    "Esto nos indica que tiene un ratio de acierto del 40% y como está cercana al 50%, pero está por debajo de este. Quiere decir que tenemos un sistema donde hay la misma probabilidad de fallar que de acertar. También, la matriz de confusion nos dice que hubo:\n",
    "+ 5 Verdaderos negativos [0,0]\n",
    "+ 4 Falsos positivos [0,1]\n",
    "+ 5 Falsos negativos [1,0]\n",
    "+ 1 Verdaderos positivo [1,1]\n",
    "\n",
    "Por lo tanto, si con pocos datos no se obtiene un buen resultado, quiere decir que el sistema no es efectivo para poder predecir si en el año habrá mucho o poco granizo."
   ]
  },
  {
   "cell_type": "markdown",
   "metadata": {},
   "source": [
    "__Paso 2.__ Generación de un clasificador aplicando normalización de datos y reducción de dimensiones\n",
    "\n",
    "Finalmente, vamos a repetir el modelo predictivo anterior, pero en este caso vamos a realizar una normalización previa de los datos con StandardScaler, y posteriormente haremos una reducción de dimensiones con PCA.\n",
    "\n",
    "* Generamos una variable de tipo StandardScaler y normalizamos nuestros datos X (las etiquetas y nunca se normalizan). Para ello utilizaremos la función __fit_transform(datos)__"
   ]
  },
  {
   "cell_type": "code",
   "execution_count": 26,
   "metadata": {
    "ExecuteTime": {
     "end_time": "2023-11-12T19:17:57.819313900Z",
     "start_time": "2023-11-12T19:17:57.697758800Z"
    }
   },
   "outputs": [],
   "source": [
    "std_scaler = StandardScaler()\n",
    "\n",
    "########INSERTAR CODIGO AQUI\n",
    "X_scaled = std_scaler.fit_transform(X)"
   ]
  },
  {
   "cell_type": "markdown",
   "metadata": {},
   "source": [
    "* Importamos la clase PCA del paquete decomposition de sklearn. La instanciamos con el hiperparámetro __n_components = 0.99__ (eso quiere decir que reduciremos dimensiones, pero quedándonos con el 99% de la información inicial). Reducimos las dimensiones de nuestros datos escalados (para ello utilizaremos la función __fit_transform(datos)__"
   ]
  },
  {
   "cell_type": "code",
   "execution_count": 27,
   "metadata": {
    "ExecuteTime": {
     "end_time": "2023-11-12T19:18:00.313084700Z",
     "start_time": "2023-11-12T19:18:00.110797800Z"
    }
   },
   "outputs": [
    {
     "name": "stdout",
     "output_type": "stream",
     "text": [
      "Ahora el tamaño de nuestro dataset es:(48, 8)\n"
     ]
    }
   ],
   "source": [
    "#Importamos la clase PCA del paquete decomposition de sklearn\n",
    "from sklearn.decomposition import PCA\n",
    "\n",
    "#Instanciamos una variable de tipo PCA, con hiperparámetro n_components=0.99\n",
    "pca = PCA(n_components=0.99)\n",
    "\n",
    "#Calculamos PCA sobre los datos escalados y lo aplicamos sobre los mismos para reducir dimensiones\n",
    "X_reduced = pca.fit_transform(X_scaled)\n",
    "\n",
    "print(f\"Ahora el tamaño de nuestro dataset es:{X_reduced.shape}\")"
   ]
  },
  {
   "cell_type": "markdown",
   "metadata": {},
   "source": [
    "Sólo se ha reducido una dimensión (hemos pasado de 9 a 8 dimensiones). ¿Será suficiente?\n",
    "\n",
    "* Volvemos a segmentar los datos en entranamiento y test, pero en este caso sobre X_reduced en lugar de sobre X (misma cantidad de datos pero menos dimensiones)"
   ]
  },
  {
   "cell_type": "code",
   "execution_count": 28,
   "metadata": {
    "ExecuteTime": {
     "end_time": "2023-11-12T19:18:02.221310Z",
     "start_time": "2023-11-12T19:18:02.133406800Z"
    }
   },
   "outputs": [
    {
     "name": "stdout",
     "output_type": "stream",
     "text": [
      "Tamaño dataset entrenamiento - Tras reducción de dimensiones: (33, 8)\n",
      "Tamaño dataset test - Tras reducción de dimensiones: (15, 8)\n"
     ]
    }
   ],
   "source": [
    "X_train_reduced, X_test_reduced, y_train, y_test = train_test_split(X_reduced, y, test_size=0.30, random_state=22)\n",
    "print(f\"Tamaño dataset entrenamiento - Tras reducción de dimensiones: {X_train_reduced.shape}\")\n",
    "print(f\"Tamaño dataset test - Tras reducción de dimensiones: {X_test_reduced.shape}\")"
   ]
  },
  {
   "cell_type": "markdown",
   "metadata": {},
   "source": [
    "* Generamos un clasificador de tipo DecisionTreeClassifier sin hiperparámetros y entrenamos nuestros datos de entrenamiento reducidos"
   ]
  },
  {
   "cell_type": "code",
   "execution_count": 29,
   "metadata": {
    "ExecuteTime": {
     "end_time": "2023-11-12T19:18:05.073992800Z",
     "start_time": "2023-11-12T19:18:05.042426200Z"
    }
   },
   "outputs": [],
   "source": [
    "#Instancia una variable de tipo DecisionTreeClassifier()\n",
    "classifier_tree = DecisionTreeClassifier()\n",
    "\n",
    "#Entrena con los datos del dataset de entrenamiento de datos reducidos\n",
    "classifier_tree.fit(X_train_reduced, y_train)\n",
    "\n",
    "#Predice las etiquetas de los datos de test reducidos\n",
    "########INSERTAR CODIGO AQUI\n",
    "y_predict = classifier_tree.predict(X_test_reduced)"
   ]
  },
  {
   "cell_type": "markdown",
   "metadata": {},
   "source": [
    "* Evaluamos nuestro modelo"
   ]
  },
  {
   "cell_type": "code",
   "execution_count": 30,
   "metadata": {
    "ExecuteTime": {
     "end_time": "2023-11-12T19:18:08.014132600Z",
     "start_time": "2023-11-12T19:18:07.922247300Z"
    }
   },
   "outputs": [
    {
     "name": "stdout",
     "output_type": "stream",
     "text": [
      "Ratio de acierto con reduccion de dimensiones: 0.6\n",
      "Matriz de confusion con reduccion de dimensiones:\n",
      " [[7 2]\n",
      " [4 2]]\n"
     ]
    }
   ],
   "source": [
    "cm_reduced = confusion_matrix(y_test, y_predict)\n",
    "accuracy_reduced = accuracy_score(y_test, y_predict)\n",
    "print(f'Ratio de acierto con reduccion de dimensiones: {accuracy_reduced}')\n",
    "print(f'Matriz de confusion con reduccion de dimensiones:\\n {cm_reduced}')"
   ]
  },
  {
   "cell_type": "markdown",
   "metadata": {},
   "source": [
    "__CONCLUSIÓN:__ Compara los resultados obtenidos al hacer el clasificador sobre los datos en bruto y sobre los datos preprocesados (normalizados y con reducción de dimensiones). ¿En algún caso el resultado es bueno? Analiza el resultado en un par de párrafos en la siguiente celda\n",
    "\n",
    "__A CONTINUACIÓN CELDA A RELLENAR POR EL ALUMNO__"
   ]
  },
  {
   "cell_type": "markdown",
   "source": [
    "Se puede observar que hay una mejora en el segundo caso de los datos procesados en un 60% a comparación de los datos en bruto que tiene un 40%. En los datos procesados se puede observar que se cometió menos falsos negativos y que tuvó más verdaderos positivos. Esto se debe a la reducción de dimensiones, ya que contribuye de forma positiva el rendimiento del modelo en este caso."
   ],
   "metadata": {
    "collapsed": false
   }
  }
 ],
 "metadata": {
  "kernelspec": {
   "display_name": "Python 3 (ipykernel)",
   "language": "python",
   "name": "python3"
  },
  "language_info": {
   "codemirror_mode": {
    "name": "ipython",
    "version": 3
   },
   "file_extension": ".py",
   "mimetype": "text/x-python",
   "name": "python",
   "nbconvert_exporter": "python",
   "pygments_lexer": "ipython3",
   "version": "3.12.0"
  }
 },
 "nbformat": 4,
 "nbformat_minor": 4
}
